{
  "nbformat": 4,
  "nbformat_minor": 0,
  "metadata": {
    "colab": {
      "name": "Model_revisi_part_5.ipynb",
      "provenance": []
    },
    "kernelspec": {
      "name": "python3",
      "display_name": "Python 3"
    },
    "language_info": {
      "name": "python"
    }
  },
  "cells": [
    {
      "cell_type": "code",
      "execution_count": 1,
      "metadata": {
        "id": "XnocC-7rVtYG"
      },
      "outputs": [],
      "source": [
        "import pandas as pd\n",
        "import re\n",
        "import numpy as np\n",
        "from tensorflow.keras.preprocessing.text import Tokenizer\n",
        "from tensorflow.keras.preprocessing.sequence import pad_sequences\n",
        "from tensorflow.keras.models import Sequential\n",
        "from tensorflow.keras.layers import Dense, Embedding, LSTM, SpatialDropout1D"
      ]
    },
    {
      "cell_type": "code",
      "source": [
        "#install tensorflow 2.8\n",
        "!pip install tensorflow==2.8.0"
      ],
      "metadata": {
        "colab": {
          "base_uri": "https://localhost:8080/",
          "height": 1000
        },
        "id": "N773li8eVzQS",
        "outputId": "c15fe5e9-11ba-4811-e14d-73444c92010e"
      },
      "execution_count": 2,
      "outputs": [
        {
          "output_type": "stream",
          "name": "stdout",
          "text": [
            "Looking in indexes: https://pypi.org/simple, https://us-python.pkg.dev/colab-wheels/public/simple/\n",
            "Collecting tensorflow==2.8.0\n",
            "  Downloading https://us-python.pkg.dev/colab-wheels/public/tensorflow/tensorflow-2.8.0%2Bzzzcolab20220506162203-cp37-cp37m-linux_x86_64.whl\n",
            "\u001b[K     \\ 668.3 MB 87.9 MB/s\n",
            "\u001b[?25hRequirement already satisfied: wrapt>=1.11.0 in /usr/local/lib/python3.7/dist-packages (from tensorflow==2.8.0) (1.14.1)\n",
            "Requirement already satisfied: setuptools in /usr/local/lib/python3.7/dist-packages (from tensorflow==2.8.0) (57.4.0)\n",
            "Requirement already satisfied: protobuf>=3.9.2 in /usr/local/lib/python3.7/dist-packages (from tensorflow==2.8.0) (3.17.3)\n",
            "Requirement already satisfied: termcolor>=1.1.0 in /usr/local/lib/python3.7/dist-packages (from tensorflow==2.8.0) (1.1.0)\n",
            "Requirement already satisfied: keras<2.9,>=2.8.0rc0 in /usr/local/lib/python3.7/dist-packages (from tensorflow==2.8.0) (2.8.0)\n",
            "Requirement already satisfied: grpcio<2.0,>=1.24.3 in /usr/local/lib/python3.7/dist-packages (from tensorflow==2.8.0) (1.46.3)\n",
            "Requirement already satisfied: h5py>=2.9.0 in /usr/local/lib/python3.7/dist-packages (from tensorflow==2.8.0) (3.1.0)\n",
            "Requirement already satisfied: tensorflow-io-gcs-filesystem>=0.23.1 in /usr/local/lib/python3.7/dist-packages (from tensorflow==2.8.0) (0.26.0)\n",
            "Requirement already satisfied: absl-py>=0.4.0 in /usr/local/lib/python3.7/dist-packages (from tensorflow==2.8.0) (1.0.0)\n",
            "Requirement already satisfied: gast>=0.2.1 in /usr/local/lib/python3.7/dist-packages (from tensorflow==2.8.0) (0.5.3)\n",
            "Requirement already satisfied: keras-preprocessing>=1.1.1 in /usr/local/lib/python3.7/dist-packages (from tensorflow==2.8.0) (1.1.2)\n",
            "Requirement already satisfied: libclang>=9.0.1 in /usr/local/lib/python3.7/dist-packages (from tensorflow==2.8.0) (14.0.1)\n",
            "Requirement already satisfied: typing-extensions>=3.6.6 in /usr/local/lib/python3.7/dist-packages (from tensorflow==2.8.0) (4.2.0)\n",
            "Requirement already satisfied: six>=1.12.0 in /usr/local/lib/python3.7/dist-packages (from tensorflow==2.8.0) (1.15.0)\n",
            "Requirement already satisfied: astunparse>=1.6.0 in /usr/local/lib/python3.7/dist-packages (from tensorflow==2.8.0) (1.6.3)\n",
            "Requirement already satisfied: numpy>=1.20 in /usr/local/lib/python3.7/dist-packages (from tensorflow==2.8.0) (1.21.6)\n",
            "Requirement already satisfied: flatbuffers>=1.12 in /usr/local/lib/python3.7/dist-packages (from tensorflow==2.8.0) (2.0)\n",
            "Requirement already satisfied: google-pasta>=0.1.1 in /usr/local/lib/python3.7/dist-packages (from tensorflow==2.8.0) (0.2.0)\n",
            "Collecting tf-estimator-nightly==2.8.0.dev2021122109\n",
            "  Downloading tf_estimator_nightly-2.8.0.dev2021122109-py2.py3-none-any.whl (462 kB)\n",
            "\u001b[K     |████████████████████████████████| 462 kB 5.6 MB/s \n",
            "\u001b[?25hRequirement already satisfied: opt-einsum>=2.3.2 in /usr/local/lib/python3.7/dist-packages (from tensorflow==2.8.0) (3.3.0)\n",
            "Requirement already satisfied: tensorboard<2.9,>=2.8 in /usr/local/lib/python3.7/dist-packages (from tensorflow==2.8.0) (2.8.0)\n",
            "Requirement already satisfied: wheel<1.0,>=0.23.0 in /usr/local/lib/python3.7/dist-packages (from astunparse>=1.6.0->tensorflow==2.8.0) (0.37.1)\n",
            "Requirement already satisfied: cached-property in /usr/local/lib/python3.7/dist-packages (from h5py>=2.9.0->tensorflow==2.8.0) (1.5.2)\n",
            "Requirement already satisfied: google-auth-oauthlib<0.5,>=0.4.1 in /usr/local/lib/python3.7/dist-packages (from tensorboard<2.9,>=2.8->tensorflow==2.8.0) (0.4.6)\n",
            "Requirement already satisfied: markdown>=2.6.8 in /usr/local/lib/python3.7/dist-packages (from tensorboard<2.9,>=2.8->tensorflow==2.8.0) (3.3.7)\n",
            "Requirement already satisfied: werkzeug>=0.11.15 in /usr/local/lib/python3.7/dist-packages (from tensorboard<2.9,>=2.8->tensorflow==2.8.0) (1.0.1)\n",
            "Requirement already satisfied: google-auth<3,>=1.6.3 in /usr/local/lib/python3.7/dist-packages (from tensorboard<2.9,>=2.8->tensorflow==2.8.0) (1.35.0)\n",
            "Requirement already satisfied: tensorboard-plugin-wit>=1.6.0 in /usr/local/lib/python3.7/dist-packages (from tensorboard<2.9,>=2.8->tensorflow==2.8.0) (1.8.1)\n",
            "Requirement already satisfied: tensorboard-data-server<0.7.0,>=0.6.0 in /usr/local/lib/python3.7/dist-packages (from tensorboard<2.9,>=2.8->tensorflow==2.8.0) (0.6.1)\n",
            "Requirement already satisfied: requests<3,>=2.21.0 in /usr/local/lib/python3.7/dist-packages (from tensorboard<2.9,>=2.8->tensorflow==2.8.0) (2.23.0)\n",
            "Requirement already satisfied: rsa<5,>=3.1.4 in /usr/local/lib/python3.7/dist-packages (from google-auth<3,>=1.6.3->tensorboard<2.9,>=2.8->tensorflow==2.8.0) (4.8)\n",
            "Requirement already satisfied: pyasn1-modules>=0.2.1 in /usr/local/lib/python3.7/dist-packages (from google-auth<3,>=1.6.3->tensorboard<2.9,>=2.8->tensorflow==2.8.0) (0.2.8)\n",
            "Requirement already satisfied: cachetools<5.0,>=2.0.0 in /usr/local/lib/python3.7/dist-packages (from google-auth<3,>=1.6.3->tensorboard<2.9,>=2.8->tensorflow==2.8.0) (4.2.4)\n",
            "Requirement already satisfied: requests-oauthlib>=0.7.0 in /usr/local/lib/python3.7/dist-packages (from google-auth-oauthlib<0.5,>=0.4.1->tensorboard<2.9,>=2.8->tensorflow==2.8.0) (1.3.1)\n",
            "Requirement already satisfied: importlib-metadata>=4.4 in /usr/local/lib/python3.7/dist-packages (from markdown>=2.6.8->tensorboard<2.9,>=2.8->tensorflow==2.8.0) (4.11.4)\n",
            "Requirement already satisfied: zipp>=0.5 in /usr/local/lib/python3.7/dist-packages (from importlib-metadata>=4.4->markdown>=2.6.8->tensorboard<2.9,>=2.8->tensorflow==2.8.0) (3.8.0)\n",
            "Requirement already satisfied: pyasn1<0.5.0,>=0.4.6 in /usr/local/lib/python3.7/dist-packages (from pyasn1-modules>=0.2.1->google-auth<3,>=1.6.3->tensorboard<2.9,>=2.8->tensorflow==2.8.0) (0.4.8)\n",
            "Requirement already satisfied: urllib3!=1.25.0,!=1.25.1,<1.26,>=1.21.1 in /usr/local/lib/python3.7/dist-packages (from requests<3,>=2.21.0->tensorboard<2.9,>=2.8->tensorflow==2.8.0) (1.24.3)\n",
            "Requirement already satisfied: idna<3,>=2.5 in /usr/local/lib/python3.7/dist-packages (from requests<3,>=2.21.0->tensorboard<2.9,>=2.8->tensorflow==2.8.0) (2.10)\n",
            "Requirement already satisfied: certifi>=2017.4.17 in /usr/local/lib/python3.7/dist-packages (from requests<3,>=2.21.0->tensorboard<2.9,>=2.8->tensorflow==2.8.0) (2022.5.18.1)\n",
            "Requirement already satisfied: chardet<4,>=3.0.2 in /usr/local/lib/python3.7/dist-packages (from requests<3,>=2.21.0->tensorboard<2.9,>=2.8->tensorflow==2.8.0) (3.0.4)\n",
            "Requirement already satisfied: oauthlib>=3.0.0 in /usr/local/lib/python3.7/dist-packages (from requests-oauthlib>=0.7.0->google-auth-oauthlib<0.5,>=0.4.1->tensorboard<2.9,>=2.8->tensorflow==2.8.0) (3.2.0)\n",
            "Installing collected packages: tf-estimator-nightly, tensorflow\n",
            "  Attempting uninstall: tensorflow\n",
            "    Found existing installation: tensorflow 2.8.2+zzzcolab20220527125636\n",
            "    Uninstalling tensorflow-2.8.2+zzzcolab20220527125636:\n",
            "      Successfully uninstalled tensorflow-2.8.2+zzzcolab20220527125636\n",
            "Successfully installed tensorflow-2.8.0+zzzcolab20220506162203 tf-estimator-nightly-2.8.0.dev2021122109\n"
          ]
        },
        {
          "output_type": "display_data",
          "data": {
            "application/vnd.colab-display-data+json": {
              "pip_warning": {
                "packages": [
                  "tensorflow"
                ]
              }
            }
          },
          "metadata": {}
        }
      ]
    },
    {
      "cell_type": "code",
      "source": [
        "#ambil link project dataset\n",
        "url = 'https://raw.githubusercontent.com/RashidMaulana/Anticede/main/Machine%20Learning/testing/data_testing/datatest.csv'\n",
        "dataset = pd.read_csv(url)\n",
        "\n",
        "# Change text to lowercase\n",
        "def proses_data(text):\n",
        "    newText = text.lower()\n",
        "    return newText\n",
        "#ini case kalau semua mau ngerun semua data Komputerku kentang maka ngefreeze)\n",
        "# dataset['comment_text'].apply(lambda x: print(x))\n",
        "#ini case kalau semua mau ngerun 5 data pertama\n",
        "testData = dataset['original_text']\n",
        "testData = testData.apply(lambda x: proses_data(x))\n",
        "\n",
        "\n",
        "#menghilangkan link dan tag html\n",
        "import re\n",
        "def link_remover(text):\n",
        "    url_regex = re.compile(r'(http|ftp|https)://([\\w_-]+(?:(?:\\.[\\w_-]+)+))([\\w.,@?^=%&:/~+#-]*[\\w@?^=%&/~+#-])?')\n",
        "    return url_regex.sub('', text)\n",
        "testData = testData.apply(lambda x: link_remover(x))\n",
        "\n",
        "#menghilangkan kalimat bersama tag\n",
        "# import re\n",
        "def tag_remover(text):\n",
        "    tag_regex = re.compile(r'<[^>]+>')\n",
        "    return tag_regex.sub('', text)\n",
        "testData = testData.apply(lambda x: tag_remover(x))\n",
        "\n",
        "# menghilangkan tanda baca dan karakter spesial\n",
        "# import re\n",
        "def karakter_spesial(text):\n",
        "    newText = re.sub('[^a-zA-Z0-9\\s]', '', text)\n",
        "    return newText\n",
        "testData = testData.apply(lambda x: karakter_spesial(x))\n",
        "\n",
        "# menghilangkan spasi berlebihan\n",
        "def Spasi_berlebihan(text):  \n",
        "    newText = re.sub('\\s', ' ', text)\n",
        "    return newText\n",
        "testData = testData.apply(lambda x: Spasi_berlebihan(x))\n",
        "\n",
        "#menghilangkan angka yang tidak perlu\n",
        "def angka_berlebihan(text):\n",
        "    newText = re.sub('[0-9]', '', text)\n",
        "    return newText\n",
        "testData = testData.apply(lambda x: angka_berlebihan(x))\n",
        "testData.tail()\n"
      ],
      "metadata": {
        "colab": {
          "base_uri": "https://localhost:8080/"
        },
        "id": "RSDILGtbV0cu",
        "outputId": "2ca80ac4-3f35-4118-8816-50b3e86e6344"
      },
      "execution_count": 28,
      "outputs": [
        {
          "output_type": "execute_result",
          "data": {
            "text/plain": [
              "4995    puasa ora sok sokan gaweni story bukber kantor...\n",
              "4996    kalau sudah begini rame   rame saling cuci tan...\n",
              "4997     kebijakan presiden jokowi yang bikin pns baha...\n",
              "4998          seorang filsuf pun harus     feel safe  ...\n",
              "4999    museum date tapi museum pengkhianatan pki  kom...\n",
              "Name: original_text, dtype: object"
            ]
          },
          "metadata": {},
          "execution_count": 28
        }
      ]
    },
    {
      "cell_type": "code",
      "source": [
        "dataset['pornografi'].value_counts()\n",
        "#dataset['sara'].value_counts()\n",
        "#dataset['radikalisme'].value_counts()\n",
        "#dataset['pencemaran_nama_baik'].value_counts()\n",
        "#dataset['original_text'].count()"
      ],
      "metadata": {
        "colab": {
          "base_uri": "https://localhost:8080/"
        },
        "id": "MS4anmM7V-kE",
        "outputId": "f59b634f-0c69-4f41-9087-709b19dd14c2"
      },
      "execution_count": 29,
      "outputs": [
        {
          "output_type": "execute_result",
          "data": {
            "text/plain": [
              "0.0    4559\n",
              "1.0     440\n",
              "Name: pornografi, dtype: int64"
            ]
          },
          "metadata": {},
          "execution_count": 29
        }
      ]
    },
    {
      "cell_type": "code",
      "source": [
        "#melatih data train dengan tensorflow\n",
        "url_train_data = 'https://raw.githubusercontent.com/RashidMaulana/Anticede/main/Machine%20Learning/testing/data_testing/datatrain.csv'\n",
        "train_data = pd.read_csv(url_train_data)\n",
        "\n",
        "# Change text to lowercase\n",
        "def proses_data(text):\n",
        "    newText = text.lower()\n",
        "    return newText\n",
        "traindata = train_data['original_text']\n",
        "traindata = traindata.apply(lambda x: proses_data(x))\n",
        "\n",
        "#menghilangkan link dan tag html\n",
        "def link_remover(text):\n",
        "    url_regex = re.compile(r'(http|ftp|https)://([\\w_-]+(?:(?:\\.[\\w_-]+)+))([\\w.,@?^=%&:/~+#-]*[\\w@?^=%&/~+#-])?')\n",
        "    return url_regex.sub('', text)\n",
        "traindata = traindata.apply(lambda x: link_remover(x))\n",
        "\n",
        "#menghilangkan kalimat bersama @name\n",
        "def name_remover(text):\n",
        "    name_regex = re.compile(r'@[\\w_-]+')\n",
        "    return name_regex.sub(' ', text)\n",
        "traindata = traindata.apply(lambda x: name_remover(x))\n",
        "\n",
        "#menghilangkan tanda baca dan karakter spesial\n",
        "def karakter_spesial(text):\n",
        "    newText = re.sub('[^a-zA-Z0-9\\s]', ' ', text)\n",
        "    return newText\n",
        "traindata = traindata.apply(lambda x: karakter_spesial(x))\n",
        "\n",
        "#menghilang angka yang nempel dengan kalimat\n",
        "def angka_berlebihan(text):\n",
        "    newText = re.sub('[0-9]', '', text)\n",
        "    return newText\n",
        "traindata = traindata.apply(lambda x: angka_berlebihan(x))\n",
        "\n",
        "#menghilangkan spasi berlebihan\n",
        "def Spasi_berlebihan(text):  \n",
        "    newText = re.sub('\\s+', '', text)\n",
        "    newText = re.sub('^\\s+', '', text)\n",
        "    return newText\n",
        "traindata = traindata.apply(lambda x: Spasi_berlebihan(x))\n",
        "traindata.tail()"
      ],
      "metadata": {
        "colab": {
          "base_uri": "https://localhost:8080/"
        },
        "id": "Zw3jdwc-XJva",
        "outputId": "af4d7402-e302-49d0-85a9-f8e5c01d333e"
      },
      "execution_count": 30,
      "outputs": [
        {
          "output_type": "execute_result",
          "data": {
            "text/plain": [
              "995    nah loh  masih menyebut jokowi antek asing   c...\n",
              "996    ade armando dipolisikan soal postingan     aza...\n",
              "997    fifa siasat isu  suara monyet     aksi peranci...\n",
              "998                           ya angkot lebih goblog    \n",
              "999    njirr pahanya kok berlemak nabati gitu sih mas...\n",
              "Name: original_text, dtype: object"
            ]
          },
          "metadata": {},
          "execution_count": 30
        }
      ]
    },
    {
      "cell_type": "code",
      "source": [
        "#intialisasi list\n",
        "kalimat_1 = [original_text for original_text in testData]\n",
        "kalimat_2 = [original_text for original_text in traindata]\n",
        "label_1 = [pornografi for pornografi in dataset['pornografi']]\n",
        "label_2 = [pornografi for pornografi in train_data['pornografi']]\n",
        "\n",
        "\n",
        "\n"
      ],
      "metadata": {
        "id": "SrEQT4zIXUam"
      },
      "execution_count": 31,
      "outputs": []
    },
    {
      "cell_type": "code",
      "source": [
        "import numpy as np\n",
        "from tensorflow.keras.preprocessing.text import Tokenizer\n",
        "from tensorflow.keras.preprocessing.sequence import pad_sequences\n",
        "\n",
        "vocab_size = 10000\n",
        "max_length = 120\n",
        "trunc_type='post'\n",
        "padding_type='post'\n",
        "oov_tok = \"<OOV>\"\n",
        "\n",
        "# Initialize the Tokenizer class\n",
        "tokenizer = Tokenizer(num_words=vocab_size, oov_token=oov_tok)\n",
        "# Fit the training data to the Tokenizer class\n",
        "tokenizer.fit_on_texts(kalimat_1)\n",
        "word_index = tokenizer.word_index\n",
        "# Tokenize the training data\n",
        "training_sequences = tokenizer.texts_to_sequences(kalimat_1)\n",
        "# Tokenize the testing data\n",
        "testing_sequences = tokenizer.texts_to_sequences(kalimat_2)\n",
        "# Pad the training data to the max length\n",
        "training_padded = pad_sequences(training_sequences, maxlen=max_length, padding=padding_type, truncating=trunc_type)\n",
        "# Pad the testing data to the max length\n",
        "testing_padded = pad_sequences(testing_sequences, maxlen=max_length, padding=padding_type, truncating=trunc_type)\n",
        "\n",
        "#convert to numpy array\n",
        "label_1 = np.array(label_1)\n",
        "label_2 = np.array(label_2)"
      ],
      "metadata": {
        "id": "W3YANtGyYXWP"
      },
      "execution_count": 35,
      "outputs": []
    },
    {
      "cell_type": "code",
      "source": [
        "import tensorflow as tf\n",
        "\n",
        "# Parameters\n",
        "embedding_dim = 16\n",
        "lstm_dim = 32\n",
        "dense_dim = 24\n",
        "\n",
        "# Model Definition with LSTM\n",
        "model = tf.keras.Sequential([\n",
        "    tf.keras.layers.Embedding(vocab_size, embedding_dim, input_length=max_length),\n",
        "    tf.keras.layers.Bidirectional(tf.keras.layers.LSTM(lstm_dim)),\n",
        "    tf.keras.layers.Dense(dense_dim, activation='relu'),\n",
        "    tf.keras.layers.Dense(1, activation='sigmoid')\n",
        "])\n",
        "\n",
        "# Set the training parameters\n",
        "model.compile(loss='binary_crossentropy',optimizer='adam',metrics=['accuracy'])\n",
        "\n",
        "# Print the model summary\n",
        "model.summary()"
      ],
      "metadata": {
        "colab": {
          "base_uri": "https://localhost:8080/"
        },
        "id": "u7n3MlLRcJvy",
        "outputId": "d572e316-0b36-4033-af28-8bb27a1eaa58"
      },
      "execution_count": 36,
      "outputs": [
        {
          "output_type": "stream",
          "name": "stdout",
          "text": [
            "Model: \"sequential_4\"\n",
            "_________________________________________________________________\n",
            " Layer (type)                Output Shape              Param #   \n",
            "=================================================================\n",
            " embedding_4 (Embedding)     (None, 120, 16)           160000    \n",
            "                                                                 \n",
            " bidirectional_4 (Bidirectio  (None, 64)               12544     \n",
            " nal)                                                            \n",
            "                                                                 \n",
            " dense_8 (Dense)             (None, 24)                1560      \n",
            "                                                                 \n",
            " dense_9 (Dense)             (None, 1)                 25        \n",
            "                                                                 \n",
            "=================================================================\n",
            "Total params: 174,129\n",
            "Trainable params: 174,129\n",
            "Non-trainable params: 0\n",
            "_________________________________________________________________\n"
          ]
        }
      ]
    },
    {
      "cell_type": "code",
      "source": [
        "NUM_EPOCHS = 10\n",
        "\n",
        "# Train the model\n",
        "history = model.fit(training_padded, label_1, epochs=NUM_EPOCHS, validation_data=(testing_padded, label_2))"
      ],
      "metadata": {
        "colab": {
          "base_uri": "https://localhost:8080/"
        },
        "id": "ZIRUZ_h4cREb",
        "outputId": "80c41734-87b7-4707-85e7-559c229b39d0"
      },
      "execution_count": 37,
      "outputs": [
        {
          "output_type": "stream",
          "name": "stdout",
          "text": [
            "Epoch 1/10\n",
            "157/157 [==============================] - 28s 145ms/step - loss: nan - accuracy: 0.9116 - val_loss: nan - val_accuracy: 0.8920\n",
            "Epoch 2/10\n",
            "157/157 [==============================] - 12s 78ms/step - loss: nan - accuracy: 0.9118 - val_loss: nan - val_accuracy: 0.8920\n",
            "Epoch 3/10\n",
            "157/157 [==============================] - 12s 77ms/step - loss: nan - accuracy: 0.9118 - val_loss: nan - val_accuracy: 0.8920\n",
            "Epoch 4/10\n",
            "157/157 [==============================] - 12s 76ms/step - loss: nan - accuracy: 0.9118 - val_loss: nan - val_accuracy: 0.8920\n",
            "Epoch 5/10\n",
            "157/157 [==============================] - 12s 77ms/step - loss: nan - accuracy: 0.9118 - val_loss: nan - val_accuracy: 0.8920\n",
            "Epoch 6/10\n",
            "157/157 [==============================] - 12s 79ms/step - loss: nan - accuracy: 0.9118 - val_loss: nan - val_accuracy: 0.8920\n",
            "Epoch 7/10\n",
            "157/157 [==============================] - 12s 77ms/step - loss: nan - accuracy: 0.9118 - val_loss: nan - val_accuracy: 0.8920\n",
            "Epoch 8/10\n",
            "157/157 [==============================] - 12s 77ms/step - loss: nan - accuracy: 0.9118 - val_loss: nan - val_accuracy: 0.8920\n",
            "Epoch 9/10\n",
            "157/157 [==============================] - 14s 87ms/step - loss: nan - accuracy: 0.9118 - val_loss: nan - val_accuracy: 0.8920\n",
            "Epoch 10/10\n",
            "157/157 [==============================] - 13s 81ms/step - loss: nan - accuracy: 0.9118 - val_loss: nan - val_accuracy: 0.8920\n"
          ]
        }
      ]
    },
    {
      "cell_type": "code",
      "source": [
        "import matplotlib.pyplot as plt\n",
        "\n",
        "# Plot Utility\n",
        "def plot_graphs(history, string):\n",
        "  plt.plot(history.history[string])\n",
        "  plt.plot(history.history['val_'+string])\n",
        "  plt.xlabel(\"Epochs\")\n",
        "  plt.ylabel(string)\n",
        "  plt.legend([string, 'val_'+string])\n",
        "  plt.show()\n",
        "\n",
        "# Plot the accuracy and loss history\n",
        "plot_graphs(history, 'accuracy')\n",
        "plot_graphs(history, 'loss')"
      ],
      "metadata": {
        "id": "4pByOjLikyuI",
        "colab": {
          "base_uri": "https://localhost:8080/",
          "height": 542
        },
        "outputId": "3e000c78-4576-49f4-c7ca-6d813c03cdb7"
      },
      "execution_count": 38,
      "outputs": [
        {
          "output_type": "display_data",
          "data": {
            "text/plain": [
              "<Figure size 432x288 with 1 Axes>"
            ],
            "image/png": "[encoded data removed]"
          },
          "metadata": {
            "needs_background": "light"
          }
        },
        {
          "output_type": "display_data",
          "data": {
            "text/plain": [
              "<Figure size 432x288 with 1 Axes>"
            ],
            "image/png": "[encoded data removed]"
          },
          "metadata": {
            "needs_background": "light"
          }
        }
      ]
    },
    {
      "cell_type": "code",
      "source": [
        "#save model in h5 format\n",
        "model.save('anticede_model.h5')"
      ],
      "metadata": {
        "id": "RdqMi_TfyUer"
      },
      "execution_count": 39,
      "outputs": []
    },
    {
      "cell_type": "code",
      "source": [
        "import os\n",
        "\n",
        "model_version = \"1\"\n",
        "model_save = \"anticede\"\n",
        "model_path = os.path.join(model_save, model_version)\n",
        "tf.saved_model.save(model, model_path)"
      ],
      "metadata": {
        "id": "NseYdOtqBQ5h",
        "colab": {
          "base_uri": "https://localhost:8080/"
        },
        "outputId": "c617d2c5-878d-4163-825f-8fffbd1d6dcd"
      },
      "execution_count": 41,
      "outputs": [
        {
          "output_type": "stream",
          "name": "stderr",
          "text": [
            "WARNING:absl:Found untraced functions such as lstm_cell_13_layer_call_fn, lstm_cell_13_layer_call_and_return_conditional_losses, lstm_cell_14_layer_call_fn, lstm_cell_14_layer_call_and_return_conditional_losses while saving (showing 4 of 4). These functions will not be directly callable after loading.\n"
          ]
        },
        {
          "output_type": "stream",
          "name": "stdout",
          "text": [
            "INFO:tensorflow:Assets written to: anticede/1/assets\n"
          ]
        },
        {
          "output_type": "stream",
          "name": "stderr",
          "text": [
            "INFO:tensorflow:Assets written to: anticede/1/assets\n"
          ]
        }
      ]
    },
    {
      "cell_type": "code",
      "source": [
        "!zip -r log.zip log /content/anticede"
      ],
      "metadata": {
        "id": "F7jvzD4nDQA0",
        "colab": {
          "base_uri": "https://localhost:8080/"
        },
        "outputId": "59343a1b-9d66-4311-9df9-581d98c48301"
      },
      "execution_count": 42,
      "outputs": [
        {
          "output_type": "stream",
          "name": "stdout",
          "text": [
            "\tzip warning: name not matched: log\n",
            "  adding: content/anticede/ (stored 0%)\n",
            "  adding: content/anticede/1/ (stored 0%)\n",
            "  adding: content/anticede/1/assets/ (stored 0%)\n",
            "  adding: content/anticede/1/saved_model.pb (deflated 91%)\n",
            "  adding: content/anticede/1/variables/ (stored 0%)\n",
            "  adding: content/anticede/1/variables/variables.data-00000-of-00001 (deflated 99%)\n",
            "  adding: content/anticede/1/variables/variables.index (deflated 70%)\n"
          ]
        }
      ]
    }
  ]
}