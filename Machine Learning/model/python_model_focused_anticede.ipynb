{
  "cells": [
    {
      "cell_type": "code",
      "execution_count": 1,
      "metadata": {
        "id": "CJosQsABnaAZ"
      },
      "outputs": [],
      "source": [
        "import pandas as pd\n",
        "import re\n",
        "import numpy as np\n",
        "import os\n",
        "import tensorflow as tf"
      ]
    },
    {
      "cell_type": "code",
      "execution_count": 2,
      "metadata": {
        "colab": {
          "base_uri": "https://localhost:8080/",
          "height": 1000
        },
        "id": "DUqbjnQQndkA",
        "outputId": "168c7562-30a3-429a-e900-1ddc7a3e45f4"
      },
      "outputs": [
        {
          "output_type": "stream",
          "name": "stdout",
          "text": [
            "Looking in indexes: https://pypi.org/simple, https://us-python.pkg.dev/colab-wheels/public/simple/\n",
            "Collecting tensorflow==2.8.0\n",
            "  Downloading https://us-python.pkg.dev/colab-wheels/public/tensorflow/tensorflow-2.8.0%2Bzzzcolab20220506162203-cp37-cp37m-linux_x86_64.whl\n",
            "\u001b[K     / 668.3 MB 575 kB/s\n",
            "\u001b[?25hRequirement already satisfied: grpcio<2.0,>=1.24.3 in /usr/local/lib/python3.7/dist-packages (from tensorflow==2.8.0) (1.46.3)\n",
            "Requirement already satisfied: tensorflow-io-gcs-filesystem>=0.23.1 in /usr/local/lib/python3.7/dist-packages (from tensorflow==2.8.0) (0.26.0)\n",
            "Requirement already satisfied: flatbuffers>=1.12 in /usr/local/lib/python3.7/dist-packages (from tensorflow==2.8.0) (2.0)\n",
            "Requirement already satisfied: absl-py>=0.4.0 in /usr/local/lib/python3.7/dist-packages (from tensorflow==2.8.0) (1.0.0)\n",
            "Requirement already satisfied: tensorboard<2.9,>=2.8 in /usr/local/lib/python3.7/dist-packages (from tensorflow==2.8.0) (2.8.0)\n",
            "Requirement already satisfied: numpy>=1.20 in /usr/local/lib/python3.7/dist-packages (from tensorflow==2.8.0) (1.21.6)\n",
            "Requirement already satisfied: protobuf>=3.9.2 in /usr/local/lib/python3.7/dist-packages (from tensorflow==2.8.0) (3.17.3)\n",
            "Requirement already satisfied: gast>=0.2.1 in /usr/local/lib/python3.7/dist-packages (from tensorflow==2.8.0) (0.5.3)\n",
            "Requirement already satisfied: six>=1.12.0 in /usr/local/lib/python3.7/dist-packages (from tensorflow==2.8.0) (1.15.0)\n",
            "Requirement already satisfied: typing-extensions>=3.6.6 in /usr/local/lib/python3.7/dist-packages (from tensorflow==2.8.0) (4.2.0)\n",
            "Requirement already satisfied: h5py>=2.9.0 in /usr/local/lib/python3.7/dist-packages (from tensorflow==2.8.0) (3.1.0)\n",
            "Requirement already satisfied: setuptools in /usr/local/lib/python3.7/dist-packages (from tensorflow==2.8.0) (57.4.0)\n",
            "Requirement already satisfied: keras-preprocessing>=1.1.1 in /usr/local/lib/python3.7/dist-packages (from tensorflow==2.8.0) (1.1.2)\n",
            "Requirement already satisfied: wrapt>=1.11.0 in /usr/local/lib/python3.7/dist-packages (from tensorflow==2.8.0) (1.14.1)\n",
            "Requirement already satisfied: google-pasta>=0.1.1 in /usr/local/lib/python3.7/dist-packages (from tensorflow==2.8.0) (0.2.0)\n",
            "Requirement already satisfied: termcolor>=1.1.0 in /usr/local/lib/python3.7/dist-packages (from tensorflow==2.8.0) (1.1.0)\n",
            "Requirement already satisfied: opt-einsum>=2.3.2 in /usr/local/lib/python3.7/dist-packages (from tensorflow==2.8.0) (3.3.0)\n",
            "Requirement already satisfied: libclang>=9.0.1 in /usr/local/lib/python3.7/dist-packages (from tensorflow==2.8.0) (14.0.1)\n",
            "Requirement already satisfied: astunparse>=1.6.0 in /usr/local/lib/python3.7/dist-packages (from tensorflow==2.8.0) (1.6.3)\n",
            "Collecting tf-estimator-nightly==2.8.0.dev2021122109\n",
            "  Downloading tf_estimator_nightly-2.8.0.dev2021122109-py2.py3-none-any.whl (462 kB)\n",
            "\u001b[K     |████████████████████████████████| 462 kB 11.5 MB/s \n",
            "\u001b[?25hRequirement already satisfied: keras<2.9,>=2.8.0rc0 in /usr/local/lib/python3.7/dist-packages (from tensorflow==2.8.0) (2.8.0)\n",
            "Requirement already satisfied: wheel<1.0,>=0.23.0 in /usr/local/lib/python3.7/dist-packages (from astunparse>=1.6.0->tensorflow==2.8.0) (0.37.1)\n",
            "Requirement already satisfied: cached-property in /usr/local/lib/python3.7/dist-packages (from h5py>=2.9.0->tensorflow==2.8.0) (1.5.2)\n",
            "Requirement already satisfied: tensorboard-data-server<0.7.0,>=0.6.0 in /usr/local/lib/python3.7/dist-packages (from tensorboard<2.9,>=2.8->tensorflow==2.8.0) (0.6.1)\n",
            "Requirement already satisfied: markdown>=2.6.8 in /usr/local/lib/python3.7/dist-packages (from tensorboard<2.9,>=2.8->tensorflow==2.8.0) (3.3.7)\n",
            "Requirement already satisfied: requests<3,>=2.21.0 in /usr/local/lib/python3.7/dist-packages (from tensorboard<2.9,>=2.8->tensorflow==2.8.0) (2.23.0)\n",
            "Requirement already satisfied: werkzeug>=0.11.15 in /usr/local/lib/python3.7/dist-packages (from tensorboard<2.9,>=2.8->tensorflow==2.8.0) (1.0.1)\n",
            "Requirement already satisfied: google-auth<3,>=1.6.3 in /usr/local/lib/python3.7/dist-packages (from tensorboard<2.9,>=2.8->tensorflow==2.8.0) (1.35.0)\n",
            "Requirement already satisfied: google-auth-oauthlib<0.5,>=0.4.1 in /usr/local/lib/python3.7/dist-packages (from tensorboard<2.9,>=2.8->tensorflow==2.8.0) (0.4.6)\n",
            "Requirement already satisfied: tensorboard-plugin-wit>=1.6.0 in /usr/local/lib/python3.7/dist-packages (from tensorboard<2.9,>=2.8->tensorflow==2.8.0) (1.8.1)\n",
            "Requirement already satisfied: cachetools<5.0,>=2.0.0 in /usr/local/lib/python3.7/dist-packages (from google-auth<3,>=1.6.3->tensorboard<2.9,>=2.8->tensorflow==2.8.0) (4.2.4)\n",
            "Requirement already satisfied: pyasn1-modules>=0.2.1 in /usr/local/lib/python3.7/dist-packages (from google-auth<3,>=1.6.3->tensorboard<2.9,>=2.8->tensorflow==2.8.0) (0.2.8)\n",
            "Requirement already satisfied: rsa<5,>=3.1.4 in /usr/local/lib/python3.7/dist-packages (from google-auth<3,>=1.6.3->tensorboard<2.9,>=2.8->tensorflow==2.8.0) (4.8)\n",
            "Requirement already satisfied: requests-oauthlib>=0.7.0 in /usr/local/lib/python3.7/dist-packages (from google-auth-oauthlib<0.5,>=0.4.1->tensorboard<2.9,>=2.8->tensorflow==2.8.0) (1.3.1)\n",
            "Requirement already satisfied: importlib-metadata>=4.4 in /usr/local/lib/python3.7/dist-packages (from markdown>=2.6.8->tensorboard<2.9,>=2.8->tensorflow==2.8.0) (4.11.4)\n",
            "Requirement already satisfied: zipp>=0.5 in /usr/local/lib/python3.7/dist-packages (from importlib-metadata>=4.4->markdown>=2.6.8->tensorboard<2.9,>=2.8->tensorflow==2.8.0) (3.8.0)\n",
            "Requirement already satisfied: pyasn1<0.5.0,>=0.4.6 in /usr/local/lib/python3.7/dist-packages (from pyasn1-modules>=0.2.1->google-auth<3,>=1.6.3->tensorboard<2.9,>=2.8->tensorflow==2.8.0) (0.4.8)\n",
            "Requirement already satisfied: urllib3!=1.25.0,!=1.25.1,<1.26,>=1.21.1 in /usr/local/lib/python3.7/dist-packages (from requests<3,>=2.21.0->tensorboard<2.9,>=2.8->tensorflow==2.8.0) (1.24.3)\n",
            "Requirement already satisfied: certifi>=2017.4.17 in /usr/local/lib/python3.7/dist-packages (from requests<3,>=2.21.0->tensorboard<2.9,>=2.8->tensorflow==2.8.0) (2022.5.18.1)\n",
            "Requirement already satisfied: idna<3,>=2.5 in /usr/local/lib/python3.7/dist-packages (from requests<3,>=2.21.0->tensorboard<2.9,>=2.8->tensorflow==2.8.0) (2.10)\n",
            "Requirement already satisfied: chardet<4,>=3.0.2 in /usr/local/lib/python3.7/dist-packages (from requests<3,>=2.21.0->tensorboard<2.9,>=2.8->tensorflow==2.8.0) (3.0.4)\n",
            "Requirement already satisfied: oauthlib>=3.0.0 in /usr/local/lib/python3.7/dist-packages (from requests-oauthlib>=0.7.0->google-auth-oauthlib<0.5,>=0.4.1->tensorboard<2.9,>=2.8->tensorflow==2.8.0) (3.2.0)\n",
            "Installing collected packages: tf-estimator-nightly, tensorflow\n",
            "  Attempting uninstall: tensorflow\n",
            "    Found existing installation: tensorflow 2.8.2+zzzcolab20220527125636\n",
            "    Uninstalling tensorflow-2.8.2+zzzcolab20220527125636:\n",
            "      Successfully uninstalled tensorflow-2.8.2+zzzcolab20220527125636\n",
            "Successfully installed tensorflow-2.8.0+zzzcolab20220506162203 tf-estimator-nightly-2.8.0.dev2021122109\n"
          ]
        },
        {
          "output_type": "display_data",
          "data": {
            "application/vnd.colab-display-data+json": {
              "pip_warning": {
                "packages": [
                  "tensorflow"
                ]
              }
            }
          },
          "metadata": {}
        }
      ],
      "source": [
        "!pip install tensorflow==2.8.0"
      ]
    },
    {
      "cell_type": "code",
      "execution_count": 3,
      "metadata": {
        "colab": {
          "base_uri": "https://localhost:8080/",
          "height": 337
        },
        "id": "sWfPq-6KoGrd",
        "outputId": "92455264-6af2-4e5d-896b-f2e5bbad2e66"
      },
      "outputs": [
        {
          "output_type": "execute_result",
          "data": {
            "text/plain": [
              "                                       original_text  pornografi  sara  \\\n",
              "0  BUKAN CuMa SPANDUK PROF VIDEO ORASI MEREKA BUK...           0     0   \n",
              "1  gua sange gatel yah tetek memeknya di ranjang ...           1     0   \n",
              "2  pertama kali denger lagunya enak bangitu in da...           0     0   \n",
              "3  astajim ini pasti yang kasih penghargaan ke ib...           0     1   \n",
              "4  kalo keberagamannya ada tapi ga dianggep banya...           0     0   \n",
              "\n",
              "   radikalisme  pencemaran_nama_baik  non_toxic  \n",
              "0            1                     1          0  \n",
              "1            0                     0          0  \n",
              "2            0                     0          1  \n",
              "3            0                     1          0  \n",
              "4            0                     0          1  "
            ],
            "text/html": [
              "\n",
              "  <div id=\"df-1a7bb476-e8f4-4fd6-8980-e8572a357e2f\">\n",
              "    <div class=\"colab-df-container\">\n",
              "      <div>\n",
              "<style scoped>\n",
              "    .dataframe tbody tr th:only-of-type {\n",
              "        vertical-align: middle;\n",
              "    }\n",
              "\n",
              "    .dataframe tbody tr th {\n",
              "        vertical-align: top;\n",
              "    }\n",
              "\n",
              "    .dataframe thead th {\n",
              "        text-align: right;\n",
              "    }\n",
              "</style>\n",
              "<table border=\"1\" class=\"dataframe\">\n",
              "  <thead>\n",
              "    <tr style=\"text-align: right;\">\n",
              "      <th></th>\n",
              "      <th>original_text</th>\n",
              "      <th>pornografi</th>\n",
              "      <th>sara</th>\n",
              "      <th>radikalisme</th>\n",
              "      <th>pencemaran_nama_baik</th>\n",
              "      <th>non_toxic</th>\n",
              "    </tr>\n",
              "  </thead>\n",
              "  <tbody>\n",
              "    <tr>\n",
              "      <th>0</th>\n",
              "      <td>BUKAN CuMa SPANDUK PROF VIDEO ORASI MEREKA BUK...</td>\n",
              "      <td>0</td>\n",
              "      <td>0</td>\n",
              "      <td>1</td>\n",
              "      <td>1</td>\n",
              "      <td>0</td>\n",
              "    </tr>\n",
              "    <tr>\n",
              "      <th>1</th>\n",
              "      <td>gua sange gatel yah tetek memeknya di ranjang ...</td>\n",
              "      <td>1</td>\n",
              "      <td>0</td>\n",
              "      <td>0</td>\n",
              "      <td>0</td>\n",
              "      <td>0</td>\n",
              "    </tr>\n",
              "    <tr>\n",
              "      <th>2</th>\n",
              "      <td>pertama kali denger lagunya enak bangitu in da...</td>\n",
              "      <td>0</td>\n",
              "      <td>0</td>\n",
              "      <td>0</td>\n",
              "      <td>0</td>\n",
              "      <td>1</td>\n",
              "    </tr>\n",
              "    <tr>\n",
              "      <th>3</th>\n",
              "      <td>astajim ini pasti yang kasih penghargaan ke ib...</td>\n",
              "      <td>0</td>\n",
              "      <td>1</td>\n",
              "      <td>0</td>\n",
              "      <td>1</td>\n",
              "      <td>0</td>\n",
              "    </tr>\n",
              "    <tr>\n",
              "      <th>4</th>\n",
              "      <td>kalo keberagamannya ada tapi ga dianggep banya...</td>\n",
              "      <td>0</td>\n",
              "      <td>0</td>\n",
              "      <td>0</td>\n",
              "      <td>0</td>\n",
              "      <td>1</td>\n",
              "    </tr>\n",
              "  </tbody>\n",
              "</table>\n",
              "</div>\n",
              "      <button class=\"colab-df-convert\" onclick=\"convertToInteractive('df-1a7bb476-e8f4-4fd6-8980-e8572a357e2f')\"\n",
              "              title=\"Convert this dataframe to an interactive table.\"\n",
              "              style=\"display:none;\">\n",
              "        \n",
              "  <svg xmlns=\"http://www.w3.org/2000/svg\" height=\"24px\"viewBox=\"0 0 24 24\"\n",
              "       width=\"24px\">\n",
              "    <path d=\"M0 0h24v24H0V0z\" fill=\"none\"/>\n",
              "    <path d=\"M18.56 5.44l.94 2.06.94-2.06 2.06-.94-2.06-.94-.94-2.06-.94 2.06-2.06.94zm-11 1L8.5 8.5l.94-2.06 2.06-.94-2.06-.94L8.5 2.5l-.94 2.06-2.06.94zm10 10l.94 2.06.94-2.06 2.06-.94-2.06-.94-.94-2.06-.94 2.06-2.06.94z\"/><path d=\"M17.41 7.96l-1.37-1.37c-.4-.4-.92-.59-1.43-.59-.52 0-1.04.2-1.43.59L10.3 9.45l-7.72 7.72c-.78.78-.78 2.05 0 2.83L4 21.41c.39.39.9.59 1.41.59.51 0 1.02-.2 1.41-.59l7.78-7.78 2.81-2.81c.8-.78.8-2.07 0-2.86zM5.41 20L4 18.59l7.72-7.72 1.47 1.35L5.41 20z\"/>\n",
              "  </svg>\n",
              "      </button>\n",
              "      \n",
              "  <style>\n",
              "    .colab-df-container {\n",
              "      display:flex;\n",
              "      flex-wrap:wrap;\n",
              "      gap: 12px;\n",
              "    }\n",
              "\n",
              "    .colab-df-convert {\n",
              "      background-color: #E8F0FE;\n",
              "      border: none;\n",
              "      border-radius: 50%;\n",
              "      cursor: pointer;\n",
              "      display: none;\n",
              "      fill: #1967D2;\n",
              "      height: 32px;\n",
              "      padding: 0 0 0 0;\n",
              "      width: 32px;\n",
              "    }\n",
              "\n",
              "    .colab-df-convert:hover {\n",
              "      background-color: #E2EBFA;\n",
              "      box-shadow: 0px 1px 2px rgba(60, 64, 67, 0.3), 0px 1px 3px 1px rgba(60, 64, 67, 0.15);\n",
              "      fill: #174EA6;\n",
              "    }\n",
              "\n",
              "    [theme=dark] .colab-df-convert {\n",
              "      background-color: #3B4455;\n",
              "      fill: #D2E3FC;\n",
              "    }\n",
              "\n",
              "    [theme=dark] .colab-df-convert:hover {\n",
              "      background-color: #434B5C;\n",
              "      box-shadow: 0px 1px 3px 1px rgba(0, 0, 0, 0.15);\n",
              "      filter: drop-shadow(0px 1px 2px rgba(0, 0, 0, 0.3));\n",
              "      fill: #FFFFFF;\n",
              "    }\n",
              "  </style>\n",
              "\n",
              "      <script>\n",
              "        const buttonEl =\n",
              "          document.querySelector('#df-1a7bb476-e8f4-4fd6-8980-e8572a357e2f button.colab-df-convert');\n",
              "        buttonEl.style.display =\n",
              "          google.colab.kernel.accessAllowed ? 'block' : 'none';\n",
              "\n",
              "        async function convertToInteractive(key) {\n",
              "          const element = document.querySelector('#df-1a7bb476-e8f4-4fd6-8980-e8572a357e2f');\n",
              "          const dataTable =\n",
              "            await google.colab.kernel.invokeFunction('convertToInteractive',\n",
              "                                                     [key], {});\n",
              "          if (!dataTable) return;\n",
              "\n",
              "          const docLinkHtml = 'Like what you see? Visit the ' +\n",
              "            '<a target=\"_blank\" href=https://colab.research.google.com/notebooks/data_table.ipynb>data table notebook</a>'\n",
              "            + ' to learn more about interactive tables.';\n",
              "          element.innerHTML = '';\n",
              "          dataTable['output_type'] = 'display_data';\n",
              "          await google.colab.output.renderOutput(dataTable, element);\n",
              "          const docLink = document.createElement('div');\n",
              "          docLink.innerHTML = docLinkHtml;\n",
              "          element.appendChild(docLink);\n",
              "        }\n",
              "      </script>\n",
              "    </div>\n",
              "  </div>\n",
              "  "
            ]
          },
          "metadata": {},
          "execution_count": 3
        }
      ],
      "source": [
        "df = pd.read_csv('https://raw.githubusercontent.com/RashidMaulana/Anticede/main/Machine%20Learning/5000_dataset_terbaru.csv')\n",
        "df.head()"
      ]
    },
    {
      "cell_type": "code",
      "execution_count": 4,
      "metadata": {
        "colab": {
          "base_uri": "https://localhost:8080/",
          "height": 302
        },
        "id": "FT_8jpTDpQbb",
        "outputId": "e449e82f-0773-4167-cf65-e1b4a4099ceb"
      },
      "outputs": [
        {
          "output_type": "execute_result",
          "data": {
            "text/plain": [
              "                                          original_text  pornografi  sara  \\\n",
              "4995                                          gay bogor           0     0   \n",
              "4996  Bogor memang cantik . Terima kasih dari Austra...           0     0   \n",
              "4997                              Lu mati gue party coy           0     0   \n",
              "4998  Aku punya peliharaan yang imut banget ada anji...           0     0   \n",
              "4999  Anjing muka kayak kuda gitu ngeharepin dapet g...           0     0   \n",
              "\n",
              "      radikalisme  pencemaran_nama_baik  non_toxic  \n",
              "4995            0                     1          0  \n",
              "4996            0                     0          1  \n",
              "4997            0                     1          0  \n",
              "4998            0                     0          1  \n",
              "4999            0                     1          0  "
            ],
            "text/html": [
              "\n",
              "  <div id=\"df-a92b2f4f-2bed-417c-ad3b-0cbabd5e5111\">\n",
              "    <div class=\"colab-df-container\">\n",
              "      <div>\n",
              "<style scoped>\n",
              "    .dataframe tbody tr th:only-of-type {\n",
              "        vertical-align: middle;\n",
              "    }\n",
              "\n",
              "    .dataframe tbody tr th {\n",
              "        vertical-align: top;\n",
              "    }\n",
              "\n",
              "    .dataframe thead th {\n",
              "        text-align: right;\n",
              "    }\n",
              "</style>\n",
              "<table border=\"1\" class=\"dataframe\">\n",
              "  <thead>\n",
              "    <tr style=\"text-align: right;\">\n",
              "      <th></th>\n",
              "      <th>original_text</th>\n",
              "      <th>pornografi</th>\n",
              "      <th>sara</th>\n",
              "      <th>radikalisme</th>\n",
              "      <th>pencemaran_nama_baik</th>\n",
              "      <th>non_toxic</th>\n",
              "    </tr>\n",
              "  </thead>\n",
              "  <tbody>\n",
              "    <tr>\n",
              "      <th>4995</th>\n",
              "      <td>gay bogor</td>\n",
              "      <td>0</td>\n",
              "      <td>0</td>\n",
              "      <td>0</td>\n",
              "      <td>1</td>\n",
              "      <td>0</td>\n",
              "    </tr>\n",
              "    <tr>\n",
              "      <th>4996</th>\n",
              "      <td>Bogor memang cantik . Terima kasih dari Austra...</td>\n",
              "      <td>0</td>\n",
              "      <td>0</td>\n",
              "      <td>0</td>\n",
              "      <td>0</td>\n",
              "      <td>1</td>\n",
              "    </tr>\n",
              "    <tr>\n",
              "      <th>4997</th>\n",
              "      <td>Lu mati gue party coy</td>\n",
              "      <td>0</td>\n",
              "      <td>0</td>\n",
              "      <td>0</td>\n",
              "      <td>1</td>\n",
              "      <td>0</td>\n",
              "    </tr>\n",
              "    <tr>\n",
              "      <th>4998</th>\n",
              "      <td>Aku punya peliharaan yang imut banget ada anji...</td>\n",
              "      <td>0</td>\n",
              "      <td>0</td>\n",
              "      <td>0</td>\n",
              "      <td>0</td>\n",
              "      <td>1</td>\n",
              "    </tr>\n",
              "    <tr>\n",
              "      <th>4999</th>\n",
              "      <td>Anjing muka kayak kuda gitu ngeharepin dapet g...</td>\n",
              "      <td>0</td>\n",
              "      <td>0</td>\n",
              "      <td>0</td>\n",
              "      <td>1</td>\n",
              "      <td>0</td>\n",
              "    </tr>\n",
              "  </tbody>\n",
              "</table>\n",
              "</div>\n",
              "      <button class=\"colab-df-convert\" onclick=\"convertToInteractive('df-a92b2f4f-2bed-417c-ad3b-0cbabd5e5111')\"\n",
              "              title=\"Convert this dataframe to an interactive table.\"\n",
              "              style=\"display:none;\">\n",
              "        \n",
              "  <svg xmlns=\"http://www.w3.org/2000/svg\" height=\"24px\"viewBox=\"0 0 24 24\"\n",
              "       width=\"24px\">\n",
              "    <path d=\"M0 0h24v24H0V0z\" fill=\"none\"/>\n",
              "    <path d=\"M18.56 5.44l.94 2.06.94-2.06 2.06-.94-2.06-.94-.94-2.06-.94 2.06-2.06.94zm-11 1L8.5 8.5l.94-2.06 2.06-.94-2.06-.94L8.5 2.5l-.94 2.06-2.06.94zm10 10l.94 2.06.94-2.06 2.06-.94-2.06-.94-.94-2.06-.94 2.06-2.06.94z\"/><path d=\"M17.41 7.96l-1.37-1.37c-.4-.4-.92-.59-1.43-.59-.52 0-1.04.2-1.43.59L10.3 9.45l-7.72 7.72c-.78.78-.78 2.05 0 2.83L4 21.41c.39.39.9.59 1.41.59.51 0 1.02-.2 1.41-.59l7.78-7.78 2.81-2.81c.8-.78.8-2.07 0-2.86zM5.41 20L4 18.59l7.72-7.72 1.47 1.35L5.41 20z\"/>\n",
              "  </svg>\n",
              "      </button>\n",
              "      \n",
              "  <style>\n",
              "    .colab-df-container {\n",
              "      display:flex;\n",
              "      flex-wrap:wrap;\n",
              "      gap: 12px;\n",
              "    }\n",
              "\n",
              "    .colab-df-convert {\n",
              "      background-color: #E8F0FE;\n",
              "      border: none;\n",
              "      border-radius: 50%;\n",
              "      cursor: pointer;\n",
              "      display: none;\n",
              "      fill: #1967D2;\n",
              "      height: 32px;\n",
              "      padding: 0 0 0 0;\n",
              "      width: 32px;\n",
              "    }\n",
              "\n",
              "    .colab-df-convert:hover {\n",
              "      background-color: #E2EBFA;\n",
              "      box-shadow: 0px 1px 2px rgba(60, 64, 67, 0.3), 0px 1px 3px 1px rgba(60, 64, 67, 0.15);\n",
              "      fill: #174EA6;\n",
              "    }\n",
              "\n",
              "    [theme=dark] .colab-df-convert {\n",
              "      background-color: #3B4455;\n",
              "      fill: #D2E3FC;\n",
              "    }\n",
              "\n",
              "    [theme=dark] .colab-df-convert:hover {\n",
              "      background-color: #434B5C;\n",
              "      box-shadow: 0px 1px 3px 1px rgba(0, 0, 0, 0.15);\n",
              "      filter: drop-shadow(0px 1px 2px rgba(0, 0, 0, 0.3));\n",
              "      fill: #FFFFFF;\n",
              "    }\n",
              "  </style>\n",
              "\n",
              "      <script>\n",
              "        const buttonEl =\n",
              "          document.querySelector('#df-a92b2f4f-2bed-417c-ad3b-0cbabd5e5111 button.colab-df-convert');\n",
              "        buttonEl.style.display =\n",
              "          google.colab.kernel.accessAllowed ? 'block' : 'none';\n",
              "\n",
              "        async function convertToInteractive(key) {\n",
              "          const element = document.querySelector('#df-a92b2f4f-2bed-417c-ad3b-0cbabd5e5111');\n",
              "          const dataTable =\n",
              "            await google.colab.kernel.invokeFunction('convertToInteractive',\n",
              "                                                     [key], {});\n",
              "          if (!dataTable) return;\n",
              "\n",
              "          const docLinkHtml = 'Like what you see? Visit the ' +\n",
              "            '<a target=\"_blank\" href=https://colab.research.google.com/notebooks/data_table.ipynb>data table notebook</a>'\n",
              "            + ' to learn more about interactive tables.';\n",
              "          element.innerHTML = '';\n",
              "          dataTable['output_type'] = 'display_data';\n",
              "          await google.colab.output.renderOutput(dataTable, element);\n",
              "          const docLink = document.createElement('div');\n",
              "          docLink.innerHTML = docLinkHtml;\n",
              "          element.appendChild(docLink);\n",
              "        }\n",
              "      </script>\n",
              "    </div>\n",
              "  </div>\n",
              "  "
            ]
          },
          "metadata": {},
          "execution_count": 4
        }
      ],
      "source": [
        "df.tail()"
      ]
    },
    {
      "cell_type": "code",
      "execution_count": 5,
      "metadata": {
        "colab": {
          "base_uri": "https://localhost:8080/",
          "height": 142
        },
        "id": "wZ0q6vhopXgL",
        "outputId": "db6ceefc-806b-47bb-edeb-f19167e840f7"
      },
      "outputs": [
        {
          "output_type": "execute_result",
          "data": {
            "text/plain": [
              "                                       original_text  pornografi  sara  \\\n",
              "0  BUKAN CuMa SPANDUK PROF VIDEO ORASI MEREKA BUK...           0     0   \n",
              "\n",
              "   radikalisme  pencemaran_nama_baik  non_toxic  \n",
              "0            1                     1          0  "
            ],
            "text/html": [
              "\n",
              "  <div id=\"df-3000ee2d-0e13-4a2c-84ab-8c76f60a31cc\">\n",
              "    <div class=\"colab-df-container\">\n",
              "      <div>\n",
              "<style scoped>\n",
              "    .dataframe tbody tr th:only-of-type {\n",
              "        vertical-align: middle;\n",
              "    }\n",
              "\n",
              "    .dataframe tbody tr th {\n",
              "        vertical-align: top;\n",
              "    }\n",
              "\n",
              "    .dataframe thead th {\n",
              "        text-align: right;\n",
              "    }\n",
              "</style>\n",
              "<table border=\"1\" class=\"dataframe\">\n",
              "  <thead>\n",
              "    <tr style=\"text-align: right;\">\n",
              "      <th></th>\n",
              "      <th>original_text</th>\n",
              "      <th>pornografi</th>\n",
              "      <th>sara</th>\n",
              "      <th>radikalisme</th>\n",
              "      <th>pencemaran_nama_baik</th>\n",
              "      <th>non_toxic</th>\n",
              "    </tr>\n",
              "  </thead>\n",
              "  <tbody>\n",
              "    <tr>\n",
              "      <th>0</th>\n",
              "      <td>BUKAN CuMa SPANDUK PROF VIDEO ORASI MEREKA BUK...</td>\n",
              "      <td>0</td>\n",
              "      <td>0</td>\n",
              "      <td>1</td>\n",
              "      <td>1</td>\n",
              "      <td>0</td>\n",
              "    </tr>\n",
              "  </tbody>\n",
              "</table>\n",
              "</div>\n",
              "      <button class=\"colab-df-convert\" onclick=\"convertToInteractive('df-3000ee2d-0e13-4a2c-84ab-8c76f60a31cc')\"\n",
              "              title=\"Convert this dataframe to an interactive table.\"\n",
              "              style=\"display:none;\">\n",
              "        \n",
              "  <svg xmlns=\"http://www.w3.org/2000/svg\" height=\"24px\"viewBox=\"0 0 24 24\"\n",
              "       width=\"24px\">\n",
              "    <path d=\"M0 0h24v24H0V0z\" fill=\"none\"/>\n",
              "    <path d=\"M18.56 5.44l.94 2.06.94-2.06 2.06-.94-2.06-.94-.94-2.06-.94 2.06-2.06.94zm-11 1L8.5 8.5l.94-2.06 2.06-.94-2.06-.94L8.5 2.5l-.94 2.06-2.06.94zm10 10l.94 2.06.94-2.06 2.06-.94-2.06-.94-.94-2.06-.94 2.06-2.06.94z\"/><path d=\"M17.41 7.96l-1.37-1.37c-.4-.4-.92-.59-1.43-.59-.52 0-1.04.2-1.43.59L10.3 9.45l-7.72 7.72c-.78.78-.78 2.05 0 2.83L4 21.41c.39.39.9.59 1.41.59.51 0 1.02-.2 1.41-.59l7.78-7.78 2.81-2.81c.8-.78.8-2.07 0-2.86zM5.41 20L4 18.59l7.72-7.72 1.47 1.35L5.41 20z\"/>\n",
              "  </svg>\n",
              "      </button>\n",
              "      \n",
              "  <style>\n",
              "    .colab-df-container {\n",
              "      display:flex;\n",
              "      flex-wrap:wrap;\n",
              "      gap: 12px;\n",
              "    }\n",
              "\n",
              "    .colab-df-convert {\n",
              "      background-color: #E8F0FE;\n",
              "      border: none;\n",
              "      border-radius: 50%;\n",
              "      cursor: pointer;\n",
              "      display: none;\n",
              "      fill: #1967D2;\n",
              "      height: 32px;\n",
              "      padding: 0 0 0 0;\n",
              "      width: 32px;\n",
              "    }\n",
              "\n",
              "    .colab-df-convert:hover {\n",
              "      background-color: #E2EBFA;\n",
              "      box-shadow: 0px 1px 2px rgba(60, 64, 67, 0.3), 0px 1px 3px 1px rgba(60, 64, 67, 0.15);\n",
              "      fill: #174EA6;\n",
              "    }\n",
              "\n",
              "    [theme=dark] .colab-df-convert {\n",
              "      background-color: #3B4455;\n",
              "      fill: #D2E3FC;\n",
              "    }\n",
              "\n",
              "    [theme=dark] .colab-df-convert:hover {\n",
              "      background-color: #434B5C;\n",
              "      box-shadow: 0px 1px 3px 1px rgba(0, 0, 0, 0.15);\n",
              "      filter: drop-shadow(0px 1px 2px rgba(0, 0, 0, 0.3));\n",
              "      fill: #FFFFFF;\n",
              "    }\n",
              "  </style>\n",
              "\n",
              "      <script>\n",
              "        const buttonEl =\n",
              "          document.querySelector('#df-3000ee2d-0e13-4a2c-84ab-8c76f60a31cc button.colab-df-convert');\n",
              "        buttonEl.style.display =\n",
              "          google.colab.kernel.accessAllowed ? 'block' : 'none';\n",
              "\n",
              "        async function convertToInteractive(key) {\n",
              "          const element = document.querySelector('#df-3000ee2d-0e13-4a2c-84ab-8c76f60a31cc');\n",
              "          const dataTable =\n",
              "            await google.colab.kernel.invokeFunction('convertToInteractive',\n",
              "                                                     [key], {});\n",
              "          if (!dataTable) return;\n",
              "\n",
              "          const docLinkHtml = 'Like what you see? Visit the ' +\n",
              "            '<a target=\"_blank\" href=https://colab.research.google.com/notebooks/data_table.ipynb>data table notebook</a>'\n",
              "            + ' to learn more about interactive tables.';\n",
              "          element.innerHTML = '';\n",
              "          dataTable['output_type'] = 'display_data';\n",
              "          await google.colab.output.renderOutput(dataTable, element);\n",
              "          const docLink = document.createElement('div');\n",
              "          docLink.innerHTML = docLinkHtml;\n",
              "          element.appendChild(docLink);\n",
              "        }\n",
              "      </script>\n",
              "    </div>\n",
              "  </div>\n",
              "  "
            ]
          },
          "metadata": {},
          "execution_count": 5
        }
      ],
      "source": [
        "df.iloc[0:1,]"
      ]
    },
    {
      "cell_type": "code",
      "execution_count": 6,
      "metadata": {
        "colab": {
          "base_uri": "https://localhost:8080/",
          "height": 72
        },
        "id": "mzx9JZ8xp8AK",
        "outputId": "6f1d1d51-4ee2-480a-9a61-8b0fd989b174"
      },
      "outputs": [
        {
          "output_type": "execute_result",
          "data": {
            "text/plain": [
              "'BUKAN CuMa SPANDUK PROF VIDEO ORASI MEREKA BUKU MEREKA dan lain lain ITU sudah SaNGAT jelas SaYa HERAN SaMa RaKYAT YanG MASIH TOLOL Udah Jelas ADA NIAT DaRi HTI YanG INGIN TEGAKKAN KHILAFAH dan GANTI NKRI MASIH NGELES GAK ADA LAH MAU TEGAKKAN KHILAFAH AJA MUNAFIK APANYA KHILAFAH'"
            ],
            "application/vnd.google.colaboratory.intrinsic+json": {
              "type": "string"
            }
          },
          "metadata": {},
          "execution_count": 6
        }
      ],
      "source": [
        "df.iloc[0]['original_text']"
      ]
    },
    {
      "cell_type": "code",
      "execution_count": 7,
      "metadata": {
        "colab": {
          "base_uri": "https://localhost:8080/",
          "height": 143
        },
        "id": "A-wjQZtcp8Hn",
        "outputId": "788bd059-8bee-4a06-e779-b12737372762"
      },
      "outputs": [
        {
          "output_type": "execute_result",
          "data": {
            "text/plain": [
              "   pornografi  sara  radikalisme  pencemaran_nama_baik  non_toxic\n",
              "0           0     0            1                     1          0\n",
              "1           1     0            0                     0          0\n",
              "2           0     0            0                     0          1"
            ],
            "text/html": [
              "\n",
              "  <div id=\"df-a65ddc47-4a04-41c4-aecf-c6a7c5bd74e5\">\n",
              "    <div class=\"colab-df-container\">\n",
              "      <div>\n",
              "<style scoped>\n",
              "    .dataframe tbody tr th:only-of-type {\n",
              "        vertical-align: middle;\n",
              "    }\n",
              "\n",
              "    .dataframe tbody tr th {\n",
              "        vertical-align: top;\n",
              "    }\n",
              "\n",
              "    .dataframe thead th {\n",
              "        text-align: right;\n",
              "    }\n",
              "</style>\n",
              "<table border=\"1\" class=\"dataframe\">\n",
              "  <thead>\n",
              "    <tr style=\"text-align: right;\">\n",
              "      <th></th>\n",
              "      <th>pornografi</th>\n",
              "      <th>sara</th>\n",
              "      <th>radikalisme</th>\n",
              "      <th>pencemaran_nama_baik</th>\n",
              "      <th>non_toxic</th>\n",
              "    </tr>\n",
              "  </thead>\n",
              "  <tbody>\n",
              "    <tr>\n",
              "      <th>0</th>\n",
              "      <td>0</td>\n",
              "      <td>0</td>\n",
              "      <td>1</td>\n",
              "      <td>1</td>\n",
              "      <td>0</td>\n",
              "    </tr>\n",
              "    <tr>\n",
              "      <th>1</th>\n",
              "      <td>1</td>\n",
              "      <td>0</td>\n",
              "      <td>0</td>\n",
              "      <td>0</td>\n",
              "      <td>0</td>\n",
              "    </tr>\n",
              "    <tr>\n",
              "      <th>2</th>\n",
              "      <td>0</td>\n",
              "      <td>0</td>\n",
              "      <td>0</td>\n",
              "      <td>0</td>\n",
              "      <td>1</td>\n",
              "    </tr>\n",
              "  </tbody>\n",
              "</table>\n",
              "</div>\n",
              "      <button class=\"colab-df-convert\" onclick=\"convertToInteractive('df-a65ddc47-4a04-41c4-aecf-c6a7c5bd74e5')\"\n",
              "              title=\"Convert this dataframe to an interactive table.\"\n",
              "              style=\"display:none;\">\n",
              "        \n",
              "  <svg xmlns=\"http://www.w3.org/2000/svg\" height=\"24px\"viewBox=\"0 0 24 24\"\n",
              "       width=\"24px\">\n",
              "    <path d=\"M0 0h24v24H0V0z\" fill=\"none\"/>\n",
              "    <path d=\"M18.56 5.44l.94 2.06.94-2.06 2.06-.94-2.06-.94-.94-2.06-.94 2.06-2.06.94zm-11 1L8.5 8.5l.94-2.06 2.06-.94-2.06-.94L8.5 2.5l-.94 2.06-2.06.94zm10 10l.94 2.06.94-2.06 2.06-.94-2.06-.94-.94-2.06-.94 2.06-2.06.94z\"/><path d=\"M17.41 7.96l-1.37-1.37c-.4-.4-.92-.59-1.43-.59-.52 0-1.04.2-1.43.59L10.3 9.45l-7.72 7.72c-.78.78-.78 2.05 0 2.83L4 21.41c.39.39.9.59 1.41.59.51 0 1.02-.2 1.41-.59l7.78-7.78 2.81-2.81c.8-.78.8-2.07 0-2.86zM5.41 20L4 18.59l7.72-7.72 1.47 1.35L5.41 20z\"/>\n",
              "  </svg>\n",
              "      </button>\n",
              "      \n",
              "  <style>\n",
              "    .colab-df-container {\n",
              "      display:flex;\n",
              "      flex-wrap:wrap;\n",
              "      gap: 12px;\n",
              "    }\n",
              "\n",
              "    .colab-df-convert {\n",
              "      background-color: #E8F0FE;\n",
              "      border: none;\n",
              "      border-radius: 50%;\n",
              "      cursor: pointer;\n",
              "      display: none;\n",
              "      fill: #1967D2;\n",
              "      height: 32px;\n",
              "      padding: 0 0 0 0;\n",
              "      width: 32px;\n",
              "    }\n",
              "\n",
              "    .colab-df-convert:hover {\n",
              "      background-color: #E2EBFA;\n",
              "      box-shadow: 0px 1px 2px rgba(60, 64, 67, 0.3), 0px 1px 3px 1px rgba(60, 64, 67, 0.15);\n",
              "      fill: #174EA6;\n",
              "    }\n",
              "\n",
              "    [theme=dark] .colab-df-convert {\n",
              "      background-color: #3B4455;\n",
              "      fill: #D2E3FC;\n",
              "    }\n",
              "\n",
              "    [theme=dark] .colab-df-convert:hover {\n",
              "      background-color: #434B5C;\n",
              "      box-shadow: 0px 1px 3px 1px rgba(0, 0, 0, 0.15);\n",
              "      filter: drop-shadow(0px 1px 2px rgba(0, 0, 0, 0.3));\n",
              "      fill: #FFFFFF;\n",
              "    }\n",
              "  </style>\n",
              "\n",
              "      <script>\n",
              "        const buttonEl =\n",
              "          document.querySelector('#df-a65ddc47-4a04-41c4-aecf-c6a7c5bd74e5 button.colab-df-convert');\n",
              "        buttonEl.style.display =\n",
              "          google.colab.kernel.accessAllowed ? 'block' : 'none';\n",
              "\n",
              "        async function convertToInteractive(key) {\n",
              "          const element = document.querySelector('#df-a65ddc47-4a04-41c4-aecf-c6a7c5bd74e5');\n",
              "          const dataTable =\n",
              "            await google.colab.kernel.invokeFunction('convertToInteractive',\n",
              "                                                     [key], {});\n",
              "          if (!dataTable) return;\n",
              "\n",
              "          const docLinkHtml = 'Like what you see? Visit the ' +\n",
              "            '<a target=\"_blank\" href=https://colab.research.google.com/notebooks/data_table.ipynb>data table notebook</a>'\n",
              "            + ' to learn more about interactive tables.';\n",
              "          element.innerHTML = '';\n",
              "          dataTable['output_type'] = 'display_data';\n",
              "          await google.colab.output.renderOutput(dataTable, element);\n",
              "          const docLink = document.createElement('div');\n",
              "          docLink.innerHTML = docLinkHtml;\n",
              "          element.appendChild(docLink);\n",
              "        }\n",
              "      </script>\n",
              "    </div>\n",
              "  </div>\n",
              "  "
            ]
          },
          "metadata": {},
          "execution_count": 7
        }
      ],
      "source": [
        "df[df.columns[1:]].iloc[0:3]"
      ]
    },
    {
      "cell_type": "code",
      "execution_count": 8,
      "metadata": {
        "id": "Dq_tusNErBMl"
      },
      "outputs": [],
      "source": [
        "from tensorflow.keras.layers import TextVectorization\n",
        "a = df['original_text']\n",
        "b = df[df.columns[1:]].values\n"
      ]
    },
    {
      "cell_type": "code",
      "execution_count": 9,
      "metadata": {
        "colab": {
          "base_uri": "https://localhost:8080/"
        },
        "id": "rxyFhcoFsUau",
        "outputId": "18a6ca0d-0c1d-4b95-9270-06b44483e029"
      },
      "outputs": [
        {
          "output_type": "execute_result",
          "data": {
            "text/plain": [
              "Index(['original_text', 'pornografi', 'sara', 'radikalisme',\n",
              "       'pencemaran_nama_baik', 'non_toxic'],\n",
              "      dtype='object')"
            ]
          },
          "metadata": {},
          "execution_count": 9
        }
      ],
      "source": [
        "df.columns"
      ]
    },
    {
      "cell_type": "code",
      "execution_count": 10,
      "metadata": {
        "colab": {
          "base_uri": "https://localhost:8080/"
        },
        "id": "LMaSP3T3lnlW",
        "outputId": "db441922-db46-436f-f832-02d21000c42d"
      },
      "outputs": [
        {
          "output_type": "execute_result",
          "data": {
            "text/plain": [
              "original_text           object\n",
              "pornografi               int64\n",
              "sara                     int64\n",
              "radikalisme              int64\n",
              "pencemaran_nama_baik     int64\n",
              "non_toxic                int64\n",
              "dtype: object"
            ]
          },
          "metadata": {},
          "execution_count": 10
        }
      ],
      "source": [
        "df.dtypes"
      ]
    },
    {
      "cell_type": "code",
      "execution_count": 11,
      "metadata": {
        "colab": {
          "base_uri": "https://localhost:8080/"
        },
        "id": "iy9U7wunv4mm",
        "outputId": "2232dde6-3ea1-4763-e378-3969cd88bd6c"
      },
      "outputs": [
        {
          "output_type": "execute_result",
          "data": {
            "text/plain": [
              "0    bukan cuma spanduk prof video orasi mereka buk...\n",
              "1    gua sange gatel yah tetek memeknya di ranjang ...\n",
              "2    pertama kali denger lagunya enak bangitu in da...\n",
              "3    astajim ini pasti yang kasih penghargaan ke ib...\n",
              "4    kalo keberagamannya ada tapi ga dianggep banya...\n",
              "Name: original_text, dtype: object"
            ]
          },
          "metadata": {},
          "execution_count": 11
        }
      ],
      "source": [
        "# Change text to lowercase\n",
        "def proses_data(text):\n",
        "    newText = text.lower()\n",
        "    return newText\n",
        "# ini case kalau semua mau ngerun semua data Komputerku kentang maka ngefreeze)\n",
        "# dataset['original_text'].apply(lambda x: print(x))\n",
        "# ini case kalau semua mau ngerun 5 data pertama\n",
        "data = df['original_text']\n",
        "data = data.apply(lambda x: proses_data(x))\n",
        "data.head()"
      ]
    },
    {
      "cell_type": "code",
      "execution_count": 12,
      "metadata": {
        "colab": {
          "base_uri": "https://localhost:8080/"
        },
        "id": "XfmUJYzOwV4u",
        "outputId": "3f0824dc-4b1e-43d9-9ed3-a066f1a70220"
      },
      "outputs": [
        {
          "output_type": "execute_result",
          "data": {
            "text/plain": [
              "0    bukan cuma spanduk prof video orasi mereka buk...\n",
              "1    gua sange gatel yah tetek memeknya di ranjang ...\n",
              "2    pertama kali denger lagunya enak bangitu in da...\n",
              "3    astajim ini pasti yang kasih penghargaan ke ib...\n",
              "4    kalo keberagamannya ada tapi ga dianggep banya...\n",
              "Name: original_text, dtype: object"
            ]
          },
          "metadata": {},
          "execution_count": 12
        }
      ],
      "source": [
        "# menghilangkan link dan tag html yang kemungkinan masih ada di dataset\n",
        "def link_remover(text):\n",
        "    url_regex = re.compile(r'(http|ftp|https)://([\\w_-]+(?:(?:\\.[\\w_-]+)+))([\\w.,@?^=%&:/~+#-]*[\\w@?^=%&/~+#-])?')\n",
        "    return url_regex.sub('', text)\n",
        "data = data.apply(lambda x: link_remover(x))\n",
        "\n",
        "# menghilangkan tanda baca dan karakter spesial\n",
        "def karakter_spesial(text):\n",
        "    newText = re.sub('[^a-zA-Z0-9\\s]', ' ', text)\n",
        "    return newText\n",
        "data = data.apply(lambda x: karakter_spesial(x))\n",
        "\n",
        "# menghilangkan spasi berlebihan\n",
        "def Spasi_berlebihan(text):  \n",
        "    newText = re.sub('\\s+', '', text)\n",
        "    newText = re.sub('^\\s+', '', text)\n",
        "    return newText\n",
        "data = data.apply(lambda x: Spasi_berlebihan(x))\n",
        "\n",
        "data.head()"
      ]
    },
    {
      "cell_type": "code",
      "execution_count": 13,
      "metadata": {
        "id": "WDpKpN-bsity"
      },
      "outputs": [],
      "source": [
        "# df[df.columns[1:]].values"
      ]
    },
    {
      "cell_type": "code",
      "execution_count": 14,
      "metadata": {
        "id": "up3VC08bsqw2"
      },
      "outputs": [],
      "source": [
        "MAX_WORD = 20000\n",
        "MAX_SEQ = 1000"
      ]
    },
    {
      "cell_type": "code",
      "execution_count": 15,
      "metadata": {
        "id": "ggRxEsjMtYOQ"
      },
      "outputs": [],
      "source": [
        "data = TextVectorization(max_tokens=MAX_WORD, output_sequence_length=1000, output_mode='int')"
      ]
    },
    {
      "cell_type": "code",
      "execution_count": 16,
      "metadata": {
        "id": "r7_tXY0uttbD"
      },
      "outputs": [],
      "source": [
        "data.adapt(a.values)"
      ]
    },
    {
      "cell_type": "code",
      "execution_count": 17,
      "metadata": {
        "colab": {
          "base_uri": "https://localhost:8080/"
        },
        "id": "c9MvfM_euJnI",
        "outputId": "4d973bea-e2da-444f-838f-4910ab21d935"
      },
      "outputs": [
        {
          "output_type": "execute_result",
          "data": {
            "text/plain": [
              "<tf.Tensor: shape=(2,), dtype=int64, numpy=array([ 139, 3265])>"
            ]
          },
          "metadata": {},
          "execution_count": 17
        }
      ],
      "source": [
        "data('anjing kadal')[:2]"
      ]
    },
    {
      "cell_type": "code",
      "execution_count": 18,
      "metadata": {
        "colab": {
          "base_uri": "https://localhost:8080/"
        },
        "id": "ZgXjx7RVuRon",
        "outputId": "30c7d3c6-2f24-489d-a498-3cf383fc2a07"
      },
      "outputs": [
        {
          "output_type": "execute_result",
          "data": {
            "text/plain": [
              "['',\n",
              " '[UNK]',\n",
              " 'yang',\n",
              " 'dan',\n",
              " 'di',\n",
              " 'itu',\n",
              " 'ini',\n",
              " 'orang',\n",
              " 'ada',\n",
              " 'dari',\n",
              " 'ya',\n",
              " 'dengan',\n",
              " 'jadi',\n",
              " 'ga',\n",
              " 'gak',\n",
              " 'presiden',\n",
              " 'tapi',\n",
              " 'juga',\n",
              " 'bisa',\n",
              " 'aja',\n",
              " 'sama',\n",
              " 'tidak',\n",
              " 'untuk',\n",
              " 'saya',\n",
              " 'jokowi',\n",
              " 'gue',\n",
              " 'ke',\n",
              " 'kalo',\n",
              " 'lagi',\n",
              " 'mau',\n",
              " 'apa',\n",
              " 'aku',\n",
              " 'agama',\n",
              " 'dia',\n",
              " 'lu',\n",
              " 'nya',\n",
              " 'islam',\n",
              " 'indonesia',\n",
              " 'kita',\n",
              " 'karena',\n",
              " 'kalau',\n",
              " 'mereka',\n",
              " 'sudah',\n",
              " 'jangan',\n",
              " 'bukan',\n",
              " 'udah',\n",
              " 'lo',\n",
              " 'dalam',\n",
              " 'akan',\n",
              " 'lain',\n",
              " 'lebih',\n",
              " 'kafir',\n",
              " 'pada',\n",
              " 'banyak',\n",
              " 'semua',\n",
              " 'pak',\n",
              " 'asing',\n",
              " 'masih',\n",
              " 'kok',\n",
              " 'si',\n",
              " 'gitu',\n",
              " 'cina',\n",
              " 'buat',\n",
              " 'adalah',\n",
              " 'kan',\n",
              " 'atau',\n",
              " 'punya',\n",
              " 'anak',\n",
              " 'cebong',\n",
              " 'tak',\n",
              " 'negara',\n",
              " 'cuma',\n",
              " 'sekarang',\n",
              " 'sih',\n",
              " 'lah',\n",
              " 'seperti',\n",
              " 'kamu',\n",
              " 'terus',\n",
              " 'tau',\n",
              " 'ganti',\n",
              " 'baru',\n",
              " 'rakyat',\n",
              " 'harus',\n",
              " 'allah',\n",
              " 'kristen',\n",
              " 'saja',\n",
              " 'ahok',\n",
              " 'mana',\n",
              " 'kontol',\n",
              " 'hanya',\n",
              " 'emang',\n",
              " 'salah',\n",
              " 'sendiri',\n",
              " 'dulu',\n",
              " 'memang',\n",
              " 'kayak',\n",
              " 'gua',\n",
              " 'banget',\n",
              " 'oleh',\n",
              " 'muslim',\n",
              " 'hari',\n",
              " 'begitu',\n",
              " 'tahun',\n",
              " 'siapa',\n",
              " 'kenapa',\n",
              " 'baik',\n",
              " 'memek',\n",
              " 'ulama',\n",
              " 'sebagai',\n",
              " 'rezim',\n",
              " 'malah',\n",
              " 'pake',\n",
              " 'komunis',\n",
              " 'pernah',\n",
              " 'kaya',\n",
              " 'budaya',\n",
              " 'pki',\n",
              " 'tuh',\n",
              " 'nih',\n",
              " 'anda',\n",
              " 'nggak',\n",
              " 'bom',\n",
              " 'pilkada',\n",
              " 'satu',\n",
              " 'kau',\n",
              " 'mah',\n",
              " 'pasti',\n",
              " 'gubernur',\n",
              " 'bilang',\n",
              " 'para',\n",
              " 'sampai',\n",
              " 'papua',\n",
              " 'suka',\n",
              " 'prabowo',\n",
              " 'menjadi',\n",
              " 'masuk',\n",
              " 'biar',\n",
              " 'ekonomi',\n",
              " 'bikin',\n",
              " 'anjing',\n",
              " 'kalian',\n",
              " 'diri',\n",
              " 'dasar',\n",
              " 'goblok',\n",
              " 'belum',\n",
              " 'nusantara',\n",
              " 'kata',\n",
              " 'kami',\n",
              " 'antek',\n",
              " 'tuhan',\n",
              " 'kali',\n",
              " 'dah',\n",
              " 'anti',\n",
              " 'saat',\n",
              " 'partai',\n",
              " 'paling',\n",
              " 'jika',\n",
              " 'babi',\n",
              " 'langsung',\n",
              " 'umat',\n",
              " 'tetap',\n",
              " 'sekali',\n",
              " 'mungkin',\n",
              " 'kampret',\n",
              " 'boleh',\n",
              " 'yahudi',\n",
              " 'manusia',\n",
              " 'kerja',\n",
              " 'sangat',\n",
              " 'pun',\n",
              " 'monyet',\n",
              " 'jakarta',\n",
              " 'selalu',\n",
              " 'deh',\n",
              " 'politik',\n",
              " 'bener',\n",
              " 'makan',\n",
              " 'katolik',\n",
              " 'jawa',\n",
              " 'eh',\n",
              " 'dong',\n",
              " 'bangsa',\n",
              " 'hidup',\n",
              " 'minta',\n",
              " 'tai',\n",
              " 'otak',\n",
              " 'ngentot',\n",
              " 'iya',\n",
              " 'hati',\n",
              " 'persen',\n",
              " 'hoax',\n",
              " 'gimana',\n",
              " 'bagi',\n",
              " 'onta',\n",
              " 'liat',\n",
              " 'baca',\n",
              " 'tolol',\n",
              " 'ni',\n",
              " 'nanti',\n",
              " 'masa',\n",
              " 'makin',\n",
              " 'kek',\n",
              " 'gini',\n",
              " 'pemerintah',\n",
              " 'kasih',\n",
              " 'jalan',\n",
              " 'dunia',\n",
              " 'bunuh',\n",
              " 'benar',\n",
              " 'video',\n",
              " 'tanpa',\n",
              " 'nama',\n",
              " 'semoga',\n",
              " 'pengen',\n",
              " 'tersebut',\n",
              " 'sipit',\n",
              " 'kepada',\n",
              " 'setelah',\n",
              " 'bahwa',\n",
              " 'mata',\n",
              " 'cara',\n",
              " 'padahal',\n",
              " 'khilafah',\n",
              " 'foto',\n",
              " 'dpr',\n",
              " 'bani',\n",
              " 'anies',\n",
              " 'sok',\n",
              " 'dapat',\n",
              " 'buddha',\n",
              " 'namanya',\n",
              " 'kena',\n",
              " 'katanya',\n",
              " 'jelas',\n",
              " 'china',\n",
              " 'banci',\n",
              " 'ayo',\n",
              " 'warga',\n",
              " 'wanita',\n",
              " 'ngomong',\n",
              " 'dungu',\n",
              " 'bego',\n",
              " 'tu',\n",
              " 'ternyata',\n",
              " 'nkri',\n",
              " 'mati',\n",
              " 'ikut',\n",
              " 'coba',\n",
              " 'takut',\n",
              " 'seorang',\n",
              " 'secara',\n",
              " 'sby',\n",
              " 'negeri',\n",
              " 'al',\n",
              " 'akun',\n",
              " 'mas',\n",
              " 'hukum',\n",
              " 'telah',\n",
              " 'maka',\n",
              " 'hal',\n",
              " 'tahu',\n",
              " 'hindu',\n",
              " 'bahkan',\n",
              " 'a',\n",
              " 'perlu',\n",
              " 'pas',\n",
              " 'kitab',\n",
              " 'kaum',\n",
              " 'cewek',\n",
              " 'besar',\n",
              " 'bersama',\n",
              " 'usah',\n",
              " 'uang',\n",
              " 'teroris',\n",
              " 'penista',\n",
              " 'paham',\n",
              " 'korban',\n",
              " 'isu',\n",
              " 'waktu',\n",
              " 'usir',\n",
              " 'masyarakat',\n",
              " 'ingin',\n",
              " 'cari',\n",
              " 'beli',\n",
              " 'bapak',\n",
              " 'suci',\n",
              " 'sini',\n",
              " 'sampe',\n",
              " 'percaya',\n",
              " 'mulai',\n",
              " 'lalu',\n",
              " 'kecil',\n",
              " 'enak',\n",
              " 'bokep',\n",
              " 'bahasa',\n",
              " 'atas',\n",
              " 'apakah',\n",
              " 'setan',\n",
              " 'sebelum',\n",
              " 'dukung',\n",
              " 'doang',\n",
              " 'bubarkan',\n",
              " 'biasa',\n",
              " 'berani',\n",
              " 'amat',\n",
              " 'rumah',\n",
              " 'la',\n",
              " 'the',\n",
              " 'pemimpin',\n",
              " 'main',\n",
              " 'ku',\n",
              " 'bacot',\n",
              " 'tentang',\n",
              " 'suara',\n",
              " 'masalah',\n",
              " 'lihat',\n",
              " 'lama',\n",
              " 'cinta',\n",
              " 'teriak',\n",
              " 'terhadap',\n",
              " 'malam',\n",
              " 'lengserkan',\n",
              " 'ketika',\n",
              " 'kembali',\n",
              " 'hahaha',\n",
              " 'berarti',\n",
              " 'beda',\n",
              " 'bajingan',\n",
              " 'tempat',\n",
              " 'semakin',\n",
              " 'sayang',\n",
              " 'polisi',\n",
              " 'penting',\n",
              " 'keluarga',\n",
              " 'kak',\n",
              " 'jauh',\n",
              " 'ia',\n",
              " 'daripada',\n",
              " 'cacat',\n",
              " 'berita',\n",
              " 'beliau',\n",
              " 'kurang',\n",
              " 'ganyang',\n",
              " 'depan',\n",
              " 'bencong',\n",
              " 'belajar',\n",
              " 'apalagi',\n",
              " 'naik',\n",
              " 'malu',\n",
              " 'makanya',\n",
              " 'kpk',\n",
              " 'idiot',\n",
              " 'ibu',\n",
              " 'i',\n",
              " 'gede',\n",
              " 'fitnah',\n",
              " 'ente',\n",
              " 'buta',\n",
              " 'bagus',\n",
              " 'asu',\n",
              " 'arab',\n",
              " 'an',\n",
              " 'siap',\n",
              " 'sering',\n",
              " 'selama',\n",
              " 'sange',\n",
              " 'sampah',\n",
              " 'quran',\n",
              " 'mbak',\n",
              " 'luar',\n",
              " 'keluar',\n",
              " 'haha',\n",
              " 'freeport',\n",
              " 'demi',\n",
              " 'calon',\n",
              " 'ane',\n",
              " 'aman',\n",
              " 'ah',\n",
              " 'yah',\n",
              " 'setiap',\n",
              " 'sambil',\n",
              " 'ribu',\n",
              " 'mantan',\n",
              " 'jaman',\n",
              " 'hasil',\n",
              " 'fiksi',\n",
              " 'debat',\n",
              " 'betul',\n",
              " 'bawa',\n",
              " 'soal',\n",
              " 'sandi',\n",
              " 'pks',\n",
              " 'pertama',\n",
              " 'perempuan',\n",
              " 'menang',\n",
              " 'kalah',\n",
              " 'harga',\n",
              " 'gila',\n",
              " 'bakal',\n",
              " 'tua',\n",
              " 'terlalu',\n",
              " 'temen',\n",
              " 'sana',\n",
              " 'remas',\n",
              " 'pakai',\n",
              " 'merasa',\n",
              " 'maaf',\n",
              " 'laki',\n",
              " 'duit',\n",
              " 'cowok',\n",
              " 'bulan',\n",
              " 'bodo',\n",
              " 'ama',\n",
              " 'yuk',\n",
              " 'tukang',\n",
              " 'swt',\n",
              " 'setuju',\n",
              " 'rp',\n",
              " 'mending',\n",
              " 'dapet',\n",
              " 'bicara',\n",
              " 'balik',\n",
              " 'wakil',\n",
              " 'wa',\n",
              " 'susah',\n",
              " 'sesuai',\n",
              " 'sejak',\n",
              " 'pendukung',\n",
              " 'ngewe',\n",
              " 'maju',\n",
              " 'kasus',\n",
              " 'justru',\n",
              " 'jual',\n",
              " 'bro',\n",
              " 'bangsat',\n",
              " 'anggota',\n",
              " 'akhirnya',\n",
              " 'tengah',\n",
              " 'tangan',\n",
              " 'sekolah',\n",
              " 'ri',\n",
              " 'nah',\n",
              " 'nabi',\n",
              " 'muka',\n",
              " 'membuat',\n",
              " 'lupa',\n",
              " 'kepala',\n",
              " 'in',\n",
              " 'bodoh',\n",
              " 'beberapa',\n",
              " 'anjir',\n",
              " 'tanah',\n",
              " 'tadi',\n",
              " 'nikah',\n",
              " 'munafik',\n",
              " 'menurut',\n",
              " 'macam',\n",
              " 'kebanyakan',\n",
              " 'jawab',\n",
              " 'hak',\n",
              " 'habis',\n",
              " 'cukup',\n",
              " 'bang',\n",
              " 'agar',\n",
              " 'tka',\n",
              " 'terima',\n",
              " 'serta',\n",
              " 'selamat',\n",
              " 'seks',\n",
              " 'pagi',\n",
              " 'mu',\n",
              " 'melihat',\n",
              " 'melakukan',\n",
              " 'dua',\n",
              " 'demo',\n",
              " 'asal',\n",
              " 'amerika',\n",
              " 'zaman',\n",
              " 'tinggi',\n",
              " 'tanya',\n",
              " 'surga',\n",
              " 'situ',\n",
              " 'sehingga',\n",
              " 'pro',\n",
              " 'pembangunan',\n",
              " 'om',\n",
              " 'non',\n",
              " 'korupsi',\n",
              " 'keras',\n",
              " 'indo',\n",
              " 'dilakukan',\n",
              " 'dibilang',\n",
              " 'cerita',\n",
              " 'begini',\n",
              " 'bau',\n",
              " 'bangke',\n",
              " 'x',\n",
              " 'tetapi',\n",
              " 'termasuk',\n",
              " 'sebut',\n",
              " 'sebenarnya',\n",
              " 'rasa',\n",
              " 'pemerintahan',\n",
              " 'ngaku',\n",
              " 'muhammad',\n",
              " 'masing',\n",
              " 'mari',\n",
              " 'lucu',\n",
              " 'ketua',\n",
              " 'iblis',\n",
              " 'dki',\n",
              " 'tinggal',\n",
              " 'terjadi',\n",
              " 'susu',\n",
              " 'segala',\n",
              " 'produk',\n",
              " 'pancasila',\n",
              " 'nonton',\n",
              " 'ngapain',\n",
              " 'namun',\n",
              " 'n',\n",
              " 'mulu',\n",
              " 'menteri',\n",
              " 'mampus',\n",
              " 'kelakuan',\n",
              " 'kayaknya',\n",
              " 'juta',\n",
              " 'jijik',\n",
              " 'ingat',\n",
              " 'gara',\n",
              " 'brengsek',\n",
              " 'barat',\n",
              " 'barang',\n",
              " 'bandung',\n",
              " 'bagaimana',\n",
              " 'tante',\n",
              " 'putih',\n",
              " 'proyek',\n",
              " 'pinter',\n",
              " 'pilih',\n",
              " 'nak',\n",
              " 'mundur',\n",
              " 'mendukung',\n",
              " 'loh',\n",
              " 'kota',\n",
              " 'kelas',\n",
              " 'kampang',\n",
              " 'kadang',\n",
              " 'itulah',\n",
              " 'fpi',\n",
              " 'dekat',\n",
              " 'cantik',\n",
              " 'apapun',\n",
              " 'ajaran',\n",
              " 'abg',\n",
              " 'yakin',\n",
              " 'otaknya',\n",
              " 'nyata',\n",
              " 'najis',\n",
              " 'mba',\n",
              " 'mayoritas',\n",
              " 'lawan',\n",
              " 'kunyuk',\n",
              " 'kira',\n",
              " 'jablay',\n",
              " 'istri',\n",
              " 'dimana',\n",
              " 'bumi',\n",
              " 'baju',\n",
              " 'ayat',\n",
              " 'aneh',\n",
              " 'utang',\n",
              " 'tni',\n",
              " 'tiap',\n",
              " 'teman',\n",
              " 'sibuk',\n",
              " 'sebuah',\n",
              " 'sarap',\n",
              " 'sakit',\n",
              " 'program',\n",
              " 'mikir',\n",
              " 'memilih',\n",
              " 'media',\n",
              " 'malaysia',\n",
              " 'joko',\n",
              " 'jihad',\n",
              " 'disini',\n",
              " 'daerah',\n",
              " 'cocot',\n",
              " 'cewe',\n",
              " 'bandara',\n",
              " 'as',\n",
              " 'wah',\n",
              " 'suku',\n",
              " 'sedang',\n",
              " 'sadar',\n",
              " 'pemilihan',\n",
              " 'nasional',\n",
              " 'muncul',\n",
              " 'mesum',\n",
              " 'memiliki',\n",
              " 'lgbt',\n",
              " 'kemarin',\n",
              " 'kapan',\n",
              " 'gerakan',\n",
              " 'diam',\n",
              " 'damai',\n",
              " 'bu',\n",
              " 'bayar',\n",
              " 'bangsad',\n",
              " 'tokoh',\n",
              " 'tionghoa',\n",
              " 'tidur',\n",
              " 'soalnya',\n",
              " 'sesama',\n",
              " 'selesai',\n",
              " 'selain',\n",
              " 'sehat',\n",
              " 'pura',\n",
              " 'pula',\n",
              " 'periode',\n",
              " 'parah',\n",
              " 'ngerti',\n",
              " 'mohon',\n",
              " 'kulit',\n",
              " 'koruptor',\n",
              " 'komen',\n",
              " 'ko',\n",
              " 'hebat',\n",
              " 'giliran',\n",
              " 'gereja',\n",
              " 'elu',\n",
              " 'edan',\n",
              " 'disebut',\n",
              " 'cocok',\n",
              " 'bila',\n",
              " 'berbagai',\n",
              " 'bank',\n",
              " 'asli',\n",
              " 'artis',\n",
              " 'amin',\n",
              " 'you',\n",
              " 'walaupun',\n",
              " 'to',\n",
              " 'tetep',\n",
              " 'supaya',\n",
              " 'saham',\n",
              " 'radikal',\n",
              " 'pribumi',\n",
              " 'pintar',\n",
              " 'pilpres',\n",
              " 'penuh',\n",
              " 'pencitraan',\n",
              " 'melalui',\n",
              " 'mampu',\n",
              " 'kenal',\n",
              " 'kelompok',\n",
              " 'kawan',\n",
              " 'kacung',\n",
              " 'ig',\n",
              " 'haram',\n",
              " 'era',\n",
              " 'cuman',\n",
              " 'bung',\n",
              " 'buka',\n",
              " 'baduy',\n",
              " 'apaan',\n",
              " 'alam',\n",
              " 'wajar',\n",
              " 'timur',\n",
              " 'tiba',\n",
              " 'sukses',\n",
              " 'sma',\n",
              " 'sistem',\n",
              " 'sempit',\n",
              " 'semangat',\n",
              " 'rohingya',\n",
              " 'plongo',\n",
              " 'picek',\n",
              " 'perang',\n",
              " 'on',\n",
              " 'nu',\n",
              " 'no',\n",
              " 'mudah',\n",
              " 'miskin',\n",
              " 'milik',\n",
              " 'marah',\n",
              " 'lonte',\n",
              " 'lainnya',\n",
              " 'kebijakan',\n",
              " 'jabar',\n",
              " 'ilmu',\n",
              " 'hina',\n",
              " 'gembel',\n",
              " 'gan',\n",
              " 'gampang',\n",
              " 'fakta',\n",
              " 'doa',\n",
              " 'dm',\n",
              " 'contoh',\n",
              " 'cek',\n",
              " 'capres',\n",
              " 'bukti',\n",
              " 'budek',\n",
              " 'buaya',\n",
              " 'bela',\n",
              " 'widodo',\n",
              " 'umum',\n",
              " 'tradisi',\n",
              " 'tim',\n",
              " 'sebelumnya',\n",
              " 'pulang',\n",
              " 'prof',\n",
              " 'pikir',\n",
              " 'perjuangan',\n",
              " 'pantat',\n",
              " 'oh',\n",
              " 'ntar',\n",
              " 'mulut',\n",
              " 'muda',\n",
              " 'minum',\n",
              " 'merupakan',\n",
              " 'masjid',\n",
              " 'lewat',\n",
              " 'lagu',\n",
              " 'impor',\n",
              " 'heran',\n",
              " 'gagal',\n",
              " 'dongo',\n",
              " 'dikit',\n",
              " 'desa',\n",
              " 'datang',\n",
              " 'congor',\n",
              " 'cepat',\n",
              " 'butuh',\n",
              " 'bong',\n",
              " 'bocah',\n",
              " 'biadab',\n",
              " 'bawah',\n",
              " 'banten',\n",
              " 'bangga',\n",
              " 'bali',\n",
              " 'awal',\n",
              " 'arah',\n",
              " 'antara',\n",
              " 'undang',\n",
              " 'twitter',\n",
              " 'turun',\n",
              " 'tulisan',\n",
              " 'tolak',\n",
              " 'toket',\n",
              " 'tentu',\n",
              " 'sosial',\n",
              " 'sepong',\n",
              " 'senang',\n",
              " 'sekalian',\n",
              " 'sedih',\n",
              " 'sara',\n",
              " 'salam',\n",
              " 's',\n",
              " 'now',\n",
              " 'netizen',\n",
              " 'nanya',\n",
              " 'mengatakan',\n",
              " 'membunuh',\n",
              " 'kucing',\n",
              " 'kuat',\n",
              " 'keparat',\n",
              " 'kampungan',\n",
              " 'kampanye',\n",
              " 'jatim',\n",
              " 'hti',\n",
              " 'goblog',\n",
              " 'final',\n",
              " 'buang',\n",
              " 'bloon',\n",
              " 'berusaha',\n",
              " 'berbuat',\n",
              " 'berapa',\n",
              " 'bejat',\n",
              " 'artinya',\n",
              " 'ambil',\n",
              " 'alias',\n",
              " 'agak',\n",
              " 'admin',\n",
              " 'up',\n",
              " 'tujuan',\n",
              " 'tolong',\n",
              " 'tetek',\n",
              " 'terakhir',\n",
              " 'suatu',\n",
              " 'seluruh',\n",
              " 'sejarah',\n",
              " 'segera',\n",
              " 'saling',\n",
              " 'perusahaan',\n",
              " 'pasangan',\n",
              " 'palestina',\n",
              " 'nasib',\n",
              " 'murah',\n",
              " 'modal',\n",
              " 'milih',\n",
              " 'merah',\n",
              " 'luh',\n",
              " 'kesel',\n",
              " 'kelihatan',\n",
              " 'kedua',\n",
              " 'kebencian',\n",
              " 'k',\n",
              " 'jogja',\n",
              " 'jemput',\n",
              " 'hasilnya',\n",
              " 'hampir',\n",
              " 'ham',\n",
              " 'guru',\n",
              " 'film',\n",
              " 'dosa',\n",
              " 'dirinya',\n",
              " 'dibuat',\n",
              " 'dengar',\n",
              " 'bispak',\n",
              " 'be',\n",
              " 'badan',\n",
              " 'april',\n",
              " 'aksi',\n",
              " 'yaitu',\n",
              " 'yaa',\n",
              " 'tong',\n",
              " 'titit',\n",
              " 'terbukti',\n",
              " 'tenang',\n",
              " 'sungguh',\n",
              " 'smp',\n",
              " 'silahkan',\n",
              " 'siang',\n",
              " 'sah',\n",
              " 'resmi',\n",
              " 'republik',\n",
              " 'pihak',\n",
              " 'pemain',\n",
              " 'menggunakan',\n",
              " 'mencari',\n",
              " 'kritik',\n",
              " 'kepentingan',\n",
              " 'kasian',\n",
              " 'kaga',\n",
              " 'jiwa',\n",
              " 'jamban',\n",
              " 'israel',\n",
              " 'isi',\n",
              " 'inggris',\n",
              " 'ih',\n",
              " 'hijab',\n",
              " 'hehe',\n",
              " 'hahahaha',\n",
              " 'gus',\n",
              " 'gratis',\n",
              " 'gay',\n",
              " 'etnis',\n",
              " 'djarot',\n",
              " 'dikasih',\n",
              " 'data',\n",
              " 'bukannya',\n",
              " 'berhasil',\n",
              " 'beragama',\n",
              " 'bentuk',\n",
              " 'beneran',\n",
              " 'bekerja',\n",
              " 'banjir',\n",
              " 'bagian',\n",
              " 'b',\n",
              " 'and',\n",
              " 'aje',\n",
              " 'acara',\n",
              " 'tv',\n",
              " 'toko',\n",
              " 'tgb',\n",
              " 'terlihat',\n",
              " 'sesuatu',\n",
              " 'sekitar',\n",
              " 'sedikit',\n",
              " 'sabar',\n",
              " 'rusak',\n",
              " 'r',\n",
              " 'puting',\n",
              " 'pelaku',\n",
              " 'pasar',\n",
              " 'pantas',\n",
              " 'online',\n",
              " 'nomor',\n",
              " 'ngga',\n",
              " 'myanmar',\n",
              " 'mulutnya',\n",
              " 'mirip',\n",
              " 'minggu',\n",
              " 'menjadikan',\n",
              " 'mengenai',\n",
              " 'membangun',\n",
              " 'melawan',\n",
              " 'maling',\n",
              " 'luna',\n",
              " 'lari',\n",
              " 'lanjut',\n",
              " 'lahir',\n",
              " 'keturunan',\n",
              " 'ketemu',\n",
              " 'karya',\n",
              " 'kakak',\n",
              " 'jelek',\n",
              " 'jasa',\n",
              " 'janji',\n",
              " 'janda',\n",
              " 'ha',\n",
              " 'gerindra',\n",
              " 'geblek',\n",
              " 'ganjar',\n",
              " 'g',\n",
              " 'deklarasi',\n",
              " 'busuk',\n",
              " 'bolot',\n",
              " 'bisu',\n",
              " 'bertemu',\n",
              " 'aset',\n",
              " 'anaknya',\n",
              " 'adanya',\n",
              " 'yo',\n",
              " 'yasin',\n",
              " 'usaha',\n",
              " 'udik',\n",
              " 'turunkan',\n",
              " 'tingkat',\n",
              " 'terkait',\n",
              " 'terbaik',\n",
              " 'tanggal',\n",
              " 'sontoloyo',\n",
              " 'seseorang',\n",
              " 'serius',\n",
              " 'sebelah',\n",
              " 'seba',\n",
              " 'sabtu',\n",
              " 'rasulullah',\n",
              " 'ras',\n",
              " 'pusat',\n",
              " 'publik',\n",
              " 'positif',\n",
              " 'plonga',\n",
              " 'pisah',\n",
              " 'pergi',\n",
              " 'perek',\n",
              " 'pecun',\n",
              " 'pdip',\n",
              " 'orangnya',\n",
              " 'nenek',\n",
              " 'nasbung',\n",
              " 'meskipun',\n",
              " 'menolak',\n",
              " 'memberikan',\n",
              " 'meja',\n",
              " 'maki',\n",
              " 'make',\n",
              " 'lelaki',\n",
              " 'keren',\n",
              " 'kemudian',\n",
              " 'kemana',\n",
              " 'kehidupan',\n",
              " 'keamanan',\n",
              " 'kagak',\n",
              " 'kabur',\n",
              " 'ka',\n",
              " 'jujur',\n",
              " 'jaga',\n",
              " 'item',\n",
              " 'isinya',\n",
              " 'inget',\n",
              " 'ikutan',\n",
              " 'hingga',\n",
              " 'harusnya',\n",
              " 'habib',\n",
              " 'grup',\n",
              " 'follow',\n",
              " 'e',\n",
              " 'dukungan',\n",
              " 'deket',\n",
              " 'bugil',\n",
              " 'besok',\n",
              " 'berpikir',\n",
              " 'bebas',\n",
              " 'bahas',\n",
              " 'alhamdulillah',\n",
              " 'air',\n",
              " 'wilayah',\n",
              " 'wajib',\n",
              " 'wajah',\n",
              " 'ustadz',\n",
              " 'urusan',\n",
              " 'tol',\n",
              " 'thread',\n",
              " 'tertentu',\n",
              " 'terkutuk',\n",
              " 'tambah',\n",
              " ...]"
            ]
          },
          "metadata": {},
          "execution_count": 18
        }
      ],
      "source": [
        "data.get_vocabulary()"
      ]
    },
    {
      "cell_type": "code",
      "execution_count": 19,
      "metadata": {
        "id": "ZrY_FlyJCqjV"
      },
      "outputs": [],
      "source": [
        "# download array_data as .txt\n",
        "# with open(\"./data_tokenized_word_anticede.txt\", \"w\") as output:\n",
        "    # output.write(str(column(array_data, 0)))"
      ]
    },
    {
      "cell_type": "code",
      "execution_count": 20,
      "metadata": {
        "id": "rQ7eQ6pfucMX"
      },
      "outputs": [],
      "source": [
        "kalimat_text = data(a.values)"
      ]
    },
    {
      "cell_type": "code",
      "execution_count": 21,
      "metadata": {
        "colab": {
          "base_uri": "https://localhost:8080/"
        },
        "id": "ITAO5P7tvHOk",
        "outputId": "fa4a2330-f025-4112-b33f-5bfaad93bf96"
      },
      "outputs": [
        {
          "output_type": "execute_result",
          "data": {
            "text/plain": [
              "5000"
            ]
          },
          "metadata": {},
          "execution_count": 21
        }
      ],
      "source": [
        "len(a)"
      ]
    },
    {
      "cell_type": "code",
      "execution_count": 22,
      "metadata": {
        "colab": {
          "base_uri": "https://localhost:8080/"
        },
        "id": "ksBXdc9evL8L",
        "outputId": "9bfc7fb4-0393-4803-8e86-f55caf4be385"
      },
      "outputs": [
        {
          "output_type": "execute_result",
          "data": {
            "text/plain": [
              "<tf.Tensor: shape=(5000, 1000), dtype=int64, numpy=\n",
              "array([[   44,    71,  1493, ...,     0,     0,     0],\n",
              "       [   96,   365, 12296, ...,     0,     0,     0],\n",
              "       [  392,   150,  1146, ...,     0,     0,     0],\n",
              "       ...,\n",
              "       [   34,   245,    25, ...,     0,     0,     0],\n",
              "       [   31,    66,  5255, ...,     0,     0,     0],\n",
              "       [  139,   443,    95, ...,     0,     0,     0]])>"
            ]
          },
          "metadata": {},
          "execution_count": 22
        }
      ],
      "source": [
        "kalimat_text"
      ]
    },
    {
      "cell_type": "code",
      "execution_count": 23,
      "metadata": {
        "id": "4ZCGDOWovnFv"
      },
      "outputs": [],
      "source": [
        "dataset = tf.data.Dataset.from_tensor_slices((kalimat_text, b))\n",
        "dataset = dataset.cache()\n",
        "dataset = dataset.shuffle(5000)\n",
        "dataset = dataset.batch(20)"
      ]
    },
    {
      "cell_type": "code",
      "execution_count": 24,
      "metadata": {
        "id": "4KKjrabhwHRb"
      },
      "outputs": [],
      "source": [
        "batch_a, batch_b = dataset.as_numpy_iterator().next()"
      ]
    },
    {
      "cell_type": "code",
      "execution_count": 25,
      "metadata": {
        "colab": {
          "base_uri": "https://localhost:8080/"
        },
        "id": "KsXRZDnzwq-0",
        "outputId": "7f3544ea-8c79-4939-98d0-25d680a87f31"
      },
      "outputs": [
        {
          "output_type": "execute_result",
          "data": {
            "text/plain": [
              "(20, 5)"
            ]
          },
          "metadata": {},
          "execution_count": 25
        }
      ],
      "source": [
        "batch_b.shape"
      ]
    },
    {
      "cell_type": "code",
      "execution_count": 26,
      "metadata": {
        "id": "fLwdbvXEyoSd"
      },
      "outputs": [],
      "source": [
        "train = dataset.take(int(len(dataset)*.8))\n",
        "validation = dataset.skip(int(len(dataset)*.8)).take(int(len(dataset)*.9))\n",
        "test = dataset.skip(int(len(dataset)*.9)).take(int(len(dataset)*.1))"
      ]
    },
    {
      "cell_type": "code",
      "execution_count": 27,
      "metadata": {
        "colab": {
          "base_uri": "https://localhost:8080/"
        },
        "id": "IkOoOR0Wzypq",
        "outputId": "98f96e6b-6b1e-478e-c0b8-84fbd0958b83"
      },
      "outputs": [
        {
          "output_type": "execute_result",
          "data": {
            "text/plain": [
              "(array([[   22,    30,   705, ...,     0,     0,     0],\n",
              "        [ 4561,  4576,   234, ...,     0,     0,     0],\n",
              "        [    3,    52,   939, ...,     0,     0,     0],\n",
              "        ...,\n",
              "        [  917,   122,   376, ...,     0,     0,     0],\n",
              "        [  940,  2969, 13795, ...,     0,     0,     0],\n",
              "        [    6,   125,   703, ...,     0,     0,     0]]),\n",
              " array([[0, 1, 1, 1, 0],\n",
              "        [0, 0, 0, 0, 1],\n",
              "        [0, 0, 0, 0, 1],\n",
              "        [0, 0, 0, 0, 1],\n",
              "        [0, 0, 0, 0, 1],\n",
              "        [0, 0, 1, 1, 0],\n",
              "        [1, 0, 0, 0, 0],\n",
              "        [0, 1, 0, 1, 0],\n",
              "        [1, 0, 0, 1, 0],\n",
              "        [1, 0, 0, 0, 0],\n",
              "        [0, 0, 0, 0, 1],\n",
              "        [0, 0, 0, 1, 0],\n",
              "        [0, 0, 0, 0, 1],\n",
              "        [0, 0, 0, 1, 0],\n",
              "        [0, 0, 0, 1, 0],\n",
              "        [0, 0, 0, 1, 0],\n",
              "        [0, 0, 1, 1, 0],\n",
              "        [0, 0, 0, 0, 1],\n",
              "        [0, 0, 0, 0, 1],\n",
              "        [0, 0, 0, 1, 0]]))"
            ]
          },
          "metadata": {},
          "execution_count": 27
        }
      ],
      "source": [
        "train.as_numpy_iterator().next()"
      ]
    },
    {
      "cell_type": "code",
      "execution_count": 28,
      "metadata": {
        "colab": {
          "base_uri": "https://localhost:8080/"
        },
        "id": "YWK879_Cz2Wh",
        "outputId": "5cbcf15f-58eb-4bab-dac6-f2062c2ae3ed"
      },
      "outputs": [
        {
          "output_type": "execute_result",
          "data": {
            "text/plain": [
              "(array([[3058, 3178,   82, ...,    0,    0,    0],\n",
              "        [  58,  568,  971, ...,    0,    0,    0],\n",
              "        [  62,   30, 1195, ...,    0,    0,    0],\n",
              "        ...,\n",
              "        [  25,   80,   19, ...,    0,    0,    0],\n",
              "        [4812,   21, 3933, ...,    0,    0,    0],\n",
              "        [ 106,  183,    4, ...,    0,    0,    0]]), array([[0, 0, 0, 0, 1],\n",
              "        [0, 0, 0, 1, 0],\n",
              "        [0, 0, 1, 0, 0],\n",
              "        [0, 1, 0, 0, 0],\n",
              "        [0, 0, 0, 0, 1],\n",
              "        [0, 0, 0, 1, 0],\n",
              "        [0, 0, 0, 0, 1],\n",
              "        [0, 0, 0, 1, 0],\n",
              "        [0, 1, 0, 1, 0],\n",
              "        [0, 1, 1, 1, 0],\n",
              "        [0, 1, 1, 0, 0],\n",
              "        [0, 0, 0, 1, 0],\n",
              "        [0, 0, 0, 0, 1],\n",
              "        [0, 0, 0, 1, 0],\n",
              "        [0, 0, 0, 0, 1],\n",
              "        [0, 1, 0, 1, 0],\n",
              "        [0, 1, 0, 1, 0],\n",
              "        [0, 0, 0, 1, 0],\n",
              "        [0, 0, 0, 0, 1],\n",
              "        [1, 0, 0, 0, 0]]))"
            ]
          },
          "metadata": {},
          "execution_count": 28
        }
      ],
      "source": [
        "validation.as_numpy_iterator().next()"
      ]
    },
    {
      "cell_type": "code",
      "execution_count": 29,
      "metadata": {
        "colab": {
          "base_uri": "https://localhost:8080/"
        },
        "id": "G9Nie4ZRz88o",
        "outputId": "dda92a74-7d83-48c0-c8b6-dae9ea4b2325"
      },
      "outputs": [
        {
          "output_type": "execute_result",
          "data": {
            "text/plain": [
              "(array([[ 1252,    71,   652, ...,     0,     0,     0],\n",
              "        [  716,     6,   643, ...,     0,     0,     0],\n",
              "        [ 1522,     2,  2183, ...,     0,     0,     0],\n",
              "        ...,\n",
              "        [ 1427,   976,   541, ...,     0,     0,     0],\n",
              "        [    7,  1334,  5809, ...,     0,     0,     0],\n",
              "        [11846,  8074,   107, ...,     0,     0,     0]]),\n",
              " array([[0, 0, 0, 0, 1],\n",
              "        [0, 0, 0, 1, 0],\n",
              "        [0, 0, 0, 1, 0],\n",
              "        [0, 0, 0, 1, 0],\n",
              "        [0, 0, 0, 0, 1],\n",
              "        [0, 0, 0, 0, 1],\n",
              "        [0, 0, 0, 1, 0],\n",
              "        [0, 1, 0, 1, 0],\n",
              "        [0, 0, 1, 0, 0],\n",
              "        [0, 0, 0, 0, 1],\n",
              "        [0, 0, 0, 0, 1],\n",
              "        [0, 0, 0, 1, 0],\n",
              "        [0, 0, 0, 1, 0],\n",
              "        [0, 0, 0, 0, 1],\n",
              "        [0, 0, 1, 1, 0],\n",
              "        [0, 0, 0, 1, 0],\n",
              "        [0, 0, 0, 0, 1],\n",
              "        [0, 0, 0, 1, 0],\n",
              "        [1, 0, 0, 0, 0],\n",
              "        [0, 0, 0, 0, 1]]))"
            ]
          },
          "metadata": {},
          "execution_count": 29
        }
      ],
      "source": [
        "test.as_numpy_iterator().next()"
      ]
    },
    {
      "cell_type": "code",
      "execution_count": 30,
      "metadata": {
        "colab": {
          "base_uri": "https://localhost:8080/"
        },
        "id": "__9NdwQR40ze",
        "outputId": "7db36cd2-c44b-4b11-af74-376eb7e8a4a6"
      },
      "outputs": [
        {
          "output_type": "execute_result",
          "data": {
            "text/plain": [
              "array([0, 0, 1, 1, 0])"
            ]
          },
          "metadata": {},
          "execution_count": 30
        }
      ],
      "source": [
        "b[0]"
      ]
    },
    {
      "cell_type": "code",
      "execution_count": 31,
      "metadata": {
        "colab": {
          "base_uri": "https://localhost:8080/"
        },
        "id": "OfJVSZMS0BDd",
        "outputId": "0d564ea0-5b53-47e6-a7a6-2b655fff8882"
      },
      "outputs": [
        {
          "output_type": "stream",
          "name": "stdout",
          "text": [
            "Model: \"sequential\"\n",
            "_________________________________________________________________\n",
            " Layer (type)                Output Shape              Param #   \n",
            "=================================================================\n",
            " embedding (Embedding)       (None, None, 20)          400020    \n",
            "                                                                 \n",
            " bidirectional (Bidirectiona  (None, 64)               13568     \n",
            " l)                                                              \n",
            "                                                                 \n",
            " dense (Dense)               (None, 512)               33280     \n",
            "                                                                 \n",
            " dense_1 (Dense)             (None, 256)               131328    \n",
            "                                                                 \n",
            " dense_2 (Dense)             (None, 128)               32896     \n",
            "                                                                 \n",
            " dense_3 (Dense)             (None, 5)                 645       \n",
            "                                                                 \n",
            "=================================================================\n",
            "Total params: 611,737\n",
            "Trainable params: 611,737\n",
            "Non-trainable params: 0\n",
            "_________________________________________________________________\n"
          ]
        }
      ],
      "source": [
        "#make a model\n",
        "from keras.models import Sequential\n",
        "from keras.layers import Dense, Embedding, LSTM, Bidirectional, Dropout\n",
        "model = Sequential()\n",
        "model.add(Embedding(MAX_WORD+1, 20))\n",
        "model.add(Bidirectional(LSTM(32, activation='tanh',)))\n",
        "# model.add(Dense(128, activation='relu'))\n",
        "model.add(Dense(512, activation='relu'))\n",
        "# model.add(Dropout(0.2))\n",
        "model.add(Dense(256, activation='relu'))\n",
        "# model.add(Dropout(0.2))\n",
        "model.add(Dense(128, activation='relu'))\n",
        "# model.add(Dropout(0.2))\n",
        "model.add(Dense(5, activation='sigmoid'))\n",
        "model.compile(loss='binary_crossentropy', optimizer='adam', metrics=['accuracy'])\n",
        "# model.compile(loss='sparse_categorical_crossentropy', optimizer=tf.keras.optimizers.Adam(learning_rate=0.001), metrics=['accuracy'])\n",
        "model.summary()"
      ]
    },
    {
      "cell_type": "code",
      "execution_count": 32,
      "metadata": {
        "colab": {
          "base_uri": "https://localhost:8080/"
        },
        "id": "eRf30-I50TUD",
        "outputId": "ec8ccabb-ac96-407b-eb2e-e46f64b0c14b"
      },
      "outputs": [
        {
          "output_type": "stream",
          "name": "stdout",
          "text": [
            "Epoch 1/10\n",
            "200/200 [==============================] - 108s 523ms/step - loss: 0.4814 - accuracy: 0.3375 - val_loss: 0.4358 - val_accuracy: 0.4200\n",
            "Epoch 2/10\n",
            "200/200 [==============================] - 91s 455ms/step - loss: 0.3718 - accuracy: 0.5305 - val_loss: 0.2622 - val_accuracy: 0.6950\n",
            "Epoch 3/10\n",
            "200/200 [==============================] - 95s 474ms/step - loss: 0.2532 - accuracy: 0.6910 - val_loss: 0.1844 - val_accuracy: 0.7520\n",
            "Epoch 4/10\n",
            "200/200 [==============================] - 94s 473ms/step - loss: 0.1829 - accuracy: 0.7645 - val_loss: 0.1513 - val_accuracy: 0.7890\n",
            "Epoch 5/10\n",
            "200/200 [==============================] - 95s 474ms/step - loss: 0.1406 - accuracy: 0.7968 - val_loss: 0.0975 - val_accuracy: 0.8090\n",
            "Epoch 6/10\n",
            "200/200 [==============================] - 94s 468ms/step - loss: 0.1091 - accuracy: 0.8240 - val_loss: 0.0837 - val_accuracy: 0.8550\n",
            "Epoch 7/10\n",
            "200/200 [==============================] - 93s 467ms/step - loss: 0.0862 - accuracy: 0.8462 - val_loss: 0.0830 - val_accuracy: 0.8140\n",
            "Epoch 8/10\n",
            "200/200 [==============================] - 96s 481ms/step - loss: 0.0749 - accuracy: 0.8587 - val_loss: 0.0606 - val_accuracy: 0.8590\n",
            "Epoch 9/10\n",
            "200/200 [==============================] - 95s 477ms/step - loss: 0.0674 - accuracy: 0.8752 - val_loss: 0.0503 - val_accuracy: 0.9090\n",
            "Epoch 10/10\n",
            "200/200 [==============================] - 95s 478ms/step - loss: 0.0520 - accuracy: 0.8880 - val_loss: 0.0388 - val_accuracy: 0.8730\n"
          ]
        }
      ],
      "source": [
        "EPOCHS = 10\n",
        "history = model.fit(train, epochs=EPOCHS, validation_data=validation)"
      ]
    },
    {
      "cell_type": "code",
      "execution_count": 33,
      "metadata": {
        "colab": {
          "base_uri": "https://localhost:8080/"
        },
        "id": "8cdkFI7Q6OIa",
        "outputId": "dda3a37b-0412-4fe7-c77a-ecf1d6c5155a"
      },
      "outputs": [
        {
          "output_type": "execute_result",
          "data": {
            "text/plain": [
              "{'accuracy': [0.3375000059604645,\n",
              "  0.5304999947547913,\n",
              "  0.6909999847412109,\n",
              "  0.7645000219345093,\n",
              "  0.796750009059906,\n",
              "  0.8240000009536743,\n",
              "  0.8462499976158142,\n",
              "  0.8587499856948853,\n",
              "  0.875249981880188,\n",
              "  0.8880000114440918],\n",
              " 'loss': [0.48144644498825073,\n",
              "  0.37175261974334717,\n",
              "  0.25316405296325684,\n",
              "  0.18293413519859314,\n",
              "  0.14064235985279083,\n",
              "  0.10905352234840393,\n",
              "  0.08621367067098618,\n",
              "  0.07489744573831558,\n",
              "  0.06744122505187988,\n",
              "  0.05204790085554123],\n",
              " 'val_accuracy': [0.41999998688697815,\n",
              "  0.6949999928474426,\n",
              "  0.7519999742507935,\n",
              "  0.7889999747276306,\n",
              "  0.8090000152587891,\n",
              "  0.8550000190734863,\n",
              "  0.8140000104904175,\n",
              "  0.859000027179718,\n",
              "  0.9089999794960022,\n",
              "  0.8730000257492065],\n",
              " 'val_loss': [0.4358457028865814,\n",
              "  0.26215121150016785,\n",
              "  0.18441151082515717,\n",
              "  0.15131080150604248,\n",
              "  0.09749389439821243,\n",
              "  0.08369037508964539,\n",
              "  0.08300445228815079,\n",
              "  0.060608264058828354,\n",
              "  0.05026449263095856,\n",
              "  0.038801226764917374]}"
            ]
          },
          "metadata": {},
          "execution_count": 33
        }
      ],
      "source": [
        "history.history"
      ]
    },
    {
      "cell_type": "code",
      "execution_count": 34,
      "metadata": {
        "colab": {
          "base_uri": "https://localhost:8080/",
          "height": 573
        },
        "id": "4QZzbJTk6U6M",
        "outputId": "373292a0-b061-4baf-8fb9-e1c7ea6f3923"
      },
      "outputs": [
        {
          "output_type": "display_data",
          "data": {
            "text/plain": [
              "<Figure size 432x288 with 1 Axes>"
            ],
            "image/png": "[encoded data removed]"
          },
          "metadata": {
            "needs_background": "light"
          }
        },
        {
          "output_type": "display_data",
          "data": {
            "text/plain": [
              "<Figure size 432x288 with 1 Axes>"
            ],
            "image/png": "[encoded data removed]"
          },
          "metadata": {
            "needs_background": "light"
          }
        }
      ],
      "source": [
        "from matplotlib import pyplot as plt\n",
        "\n",
        "plt.plot(history.history['accuracy'])\n",
        "plt.plot(history.history['val_accuracy'])\n",
        "plt.title('model accuracy')\n",
        "plt.ylabel('accuracy')\n",
        "plt.xlabel('epoch')\n",
        "plt.legend(['train', 'test'], loc='upper left')\n",
        "plt.show()\n",
        "\n",
        "plt.plot(history.history['loss'])\n",
        "plt.plot(history.history['val_loss'])\n",
        "plt.title('model loss')\n",
        "plt.ylabel('loss')\n",
        "plt.xlabel('epoch')\n",
        "plt.legend(['train', 'test'], loc='upper left')\n",
        "plt.show()"
      ]
    },
    {
      "cell_type": "code",
      "execution_count": 48,
      "metadata": {
        "id": "FIMKHlbNBb4n"
      },
      "outputs": [],
      "source": [
        "batch_c = test.as_numpy_iterator().next()"
      ]
    },
    {
      "cell_type": "code",
      "execution_count": 91,
      "metadata": {
        "id": "CcFfXpCfCeTW"
      },
      "outputs": [],
      "source": [
        "masukan_text = data('muka lu kayak monyet')"
      ]
    },
    {
      "cell_type": "code",
      "execution_count": 92,
      "metadata": {
        "id": "OFx-RgtWC1MP",
        "colab": {
          "base_uri": "https://localhost:8080/"
        },
        "outputId": "067586bc-20b1-48dc-aab7-75d9747a03dd"
      },
      "outputs": [
        {
          "output_type": "execute_result",
          "data": {
            "text/plain": [
              "array([[3.5917534e-08, 5.8052244e-08, 1.7178878e-06, 9.9960536e-01,\n",
              "        7.3987842e-03]], dtype=float32)"
            ]
          },
          "metadata": {},
          "execution_count": 92
        }
      ],
      "source": [
        "model.predict(np.expand_dims(masukan_text,0))"
      ]
    },
    {
      "cell_type": "code",
      "execution_count": 93,
      "metadata": {
        "id": "DufMwj-TfmcW"
      },
      "outputs": [],
      "source": [
        "# save model in h5 format\n",
        "# model.save('anticede_model.h5')"
      ]
    },
    {
      "cell_type": "code",
      "execution_count": 94,
      "metadata": {
        "id": "pExh-aqkf052",
        "colab": {
          "base_uri": "https://localhost:8080/"
        },
        "outputId": "8339e7d5-9ae3-4e27-bab9-2114248c6caf"
      },
      "outputs": [
        {
          "output_type": "stream",
          "name": "stderr",
          "text": [
            "WARNING:absl:Found untraced functions such as lstm_cell_1_layer_call_fn, lstm_cell_1_layer_call_and_return_conditional_losses, lstm_cell_2_layer_call_fn, lstm_cell_2_layer_call_and_return_conditional_losses while saving (showing 4 of 4). These functions will not be directly callable after loading.\n"
          ]
        },
        {
          "output_type": "stream",
          "name": "stdout",
          "text": [
            "INFO:tensorflow:Assets written to: anticede/1/assets\n"
          ]
        },
        {
          "output_type": "stream",
          "name": "stderr",
          "text": [
            "INFO:tensorflow:Assets written to: anticede/1/assets\n"
          ]
        }
      ],
      "source": [
        "# convert file ke format .pb\n",
        "# import os\n",
        "\n",
        "# model_version = \"1\"\n",
        "# model_save = \"anticede\"\n",
        "# model_path = os.path.join(model_save, model_version)\n",
        "# tf.saved_model.save(model, model_path)"
      ]
    },
    {
      "cell_type": "code",
      "execution_count": 95,
      "metadata": {
        "id": "UTNtsch0f9Nl",
        "colab": {
          "base_uri": "https://localhost:8080/"
        },
        "outputId": "0ac0cef8-a0d4-4d4e-98f0-9e0f1959b8de"
      },
      "outputs": [
        {
          "output_type": "stream",
          "name": "stdout",
          "text": [
            "\tzip warning: name not matched: log\n",
            "  adding: content/anticede/ (stored 0%)\n",
            "  adding: content/anticede/1/ (stored 0%)\n",
            "  adding: content/anticede/1/variables/ (stored 0%)\n",
            "  adding: content/anticede/1/variables/variables.data-00000-of-00001 (deflated 21%)\n",
            "  adding: content/anticede/1/variables/variables.index (deflated 68%)\n",
            "  adding: content/anticede/1/assets/ (stored 0%)\n",
            "  adding: content/anticede/1/saved_model.pb (deflated 90%)\n"
          ]
        }
      ],
      "source": [
        "# !zip -r log.zip log /content/anticede"
      ]
    },
    {
      "cell_type": "code",
      "execution_count": 41,
      "metadata": {
        "id": "kRjSyIL62Xbm"
      },
      "outputs": [],
      "source": [
        "# !ls -l {model_path}"
      ]
    },
    {
      "cell_type": "code",
      "execution_count": 42,
      "metadata": {
        "id": "CN3S9To62YDO"
      },
      "outputs": [],
      "source": [
        "# menampilkan saved model\n",
        "# !saved_model_cli show --dir {model_path} --all"
      ]
    },
    {
      "cell_type": "code",
      "execution_count": 43,
      "metadata": {
        "id": "lsG4OTDO2a-_"
      },
      "outputs": [],
      "source": [
        "# !echo \"deb http://storage.googleapis.com/tensorflow-serving-apt stable tensorflow-model-server tensorflow-model-server-universal\" | tee /etc/apt/sources.list.d/tensorflow-serving.list && \\\n",
        "# curl https://storage.googleapis.com/tensorflow-serving-apt/tensorflow-serving.release.pub.gpg | apt-key add -\n",
        "# !apt update"
      ]
    },
    {
      "cell_type": "code",
      "execution_count": 44,
      "metadata": {
        "id": "eziP8UAK3EYm"
      },
      "outputs": [],
      "source": [
        "# !apt-get install tensorflow-model-server"
      ]
    },
    {
      "cell_type": "code",
      "execution_count": 45,
      "metadata": {
        "id": "78pj60Y43E32"
      },
      "outputs": [],
      "source": [
        "# os.environ['model_save'] = model_save"
      ]
    },
    {
      "cell_type": "code",
      "execution_count": 46,
      "metadata": {
        "id": "1jRsgPG6BgZO"
      },
      "outputs": [],
      "source": [
        "# %%bash --bg \n",
        "# nohup tensorflow_model_server \\\n",
        "  # --rest_api_port=8501 \\\n",
        "  # --model_name=anticede_01 \\\n",
        "  # --model_base_path=\"${model_path}\" >server.log 2>&1\n",
        "  # --model_base_path=\"${model_path}\" >server.log 2>&1"
      ]
    },
    {
      "cell_type": "code",
      "execution_count": 47,
      "metadata": {
        "id": "4A5ooxTuB8d-"
      },
      "outputs": [],
      "source": [
        "# !tail server.log"
      ]
    }
  ],
  "metadata": {
    "colab": {
      "collapsed_sections": [],
      "name": "python_model_focused.ipynb",
      "provenance": []
    },
    "kernelspec": {
      "display_name": "Python 3",
      "name": "python3"
    },
    "language_info": {
      "name": "python"
    }
  },
  "nbformat": 4,
  "nbformat_minor": 0
}